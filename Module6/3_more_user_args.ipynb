{
 "cells": [
  {
   "cell_type": "markdown",
   "metadata": {},
   "source": [
    "# Gathering (more) User Input"
   ]
  },
  {
   "cell_type": "markdown",
   "metadata": {},
   "source": [
    "## Interactive Programs"
   ]
  },
  {
   "cell_type": "code",
   "execution_count": 3,
   "metadata": {
    "collapsed": false
   },
   "outputs": [
    {
     "name": "stdout",
     "output_type": "stream",
     "text": [
      "Input a number: 12\n"
     ]
    }
   ],
   "source": [
    "user_number1 = int(input(\"Input a number: \"))"
   ]
  },
  {
   "cell_type": "code",
   "execution_count": 4,
   "metadata": {
    "collapsed": false
   },
   "outputs": [
    {
     "name": "stdout",
     "output_type": "stream",
     "text": [
      "Input another number: 24\n"
     ]
    }
   ],
   "source": [
    "user_number2 = int(input(\"Input another number: \"))"
   ]
  },
  {
   "cell_type": "markdown",
   "metadata": {},
   "source": [
    "## Running scripts from the command line with sys\n",
    "- great for simple user arguments such as file names\n",
    "- does no parsing of arguments\n",
    "- positional arguments, no keywords"
   ]
  },
  {
   "cell_type": "code",
   "execution_count": null,
   "metadata": {
    "collapsed": true
   },
   "outputs": [],
   "source": [
    "python3 my_script.py arg1 arg2 arg3"
   ]
  },
  {
   "cell_type": "code",
   "execution_count": null,
   "metadata": {
    "collapsed": true
   },
   "outputs": [],
   "source": [
    "import sys\n",
    "\n",
    "#sys.argv[0] = python3\n",
    "\n",
    "first_arg = sys.argv[1]\n",
    "second_arg = sys.argv[2]\n",
    "third_arg = sys.argv[3]\n",
    "\n",
    "print(first_arg)"
   ]
  },
  {
   "cell_type": "markdown",
   "metadata": {},
   "source": [
    "## More Complicated User Arguments with ArgParse\n",
    "- keyword arguments\n",
    "- argument parsing\n",
    "- slightly complicated setup\n",
    "- Don't need for this class\n",
    "\n",
    "[More info here!](https://dmorgan.info/posts/argparse-intro/)"
   ]
  }
 ],
 "metadata": {
  "kernelspec": {
   "display_name": "Python 3",
   "language": "python",
   "name": "python3"
  },
  "language_info": {
   "codemirror_mode": {
    "name": "ipython",
    "version": 3
   },
   "file_extension": ".py",
   "mimetype": "text/x-python",
   "name": "python",
   "nbconvert_exporter": "python",
   "pygments_lexer": "ipython3",
   "version": "3.5.2"
  }
 },
 "nbformat": 4,
 "nbformat_minor": 2
}
