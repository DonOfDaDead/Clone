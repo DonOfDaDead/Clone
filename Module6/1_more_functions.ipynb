{
 "cells": [
  {
   "cell_type": "markdown",
   "metadata": {
    "deletable": true,
    "editable": true
   },
   "source": [
    "# More on Functions"
   ]
  },
  {
   "cell_type": "markdown",
   "metadata": {},
   "source": [
    "## Basic Syntax\n",
    "- Only way to get something into a function is through the parameters\n",
    "- Only way to get something out of a function is through a return value"
   ]
  },
  {
   "cell_type": "code",
   "execution_count": null,
   "metadata": {
    "collapsed": true
   },
   "outputs": [],
   "source": [
    "def function_name(parameter):\n",
    "    do_stuff_using(parameter)"
   ]
  },
  {
   "cell_type": "code",
   "execution_count": 1,
   "metadata": {
    "collapsed": true
   },
   "outputs": [],
   "source": [
    "def print_message(my_message):\n",
    "    print(my_message)"
   ]
  },
  {
   "cell_type": "markdown",
   "metadata": {},
   "source": [
    "### Calling a function"
   ]
  },
  {
   "cell_type": "code",
   "execution_count": 2,
   "metadata": {
    "collapsed": false
   },
   "outputs": [
    {
     "name": "stdout",
     "output_type": "stream",
     "text": [
      "Warm it up, Kris!\n"
     ]
    }
   ],
   "source": [
    "print_message(\"Warm it up, Kris!\")"
   ]
  },
  {
   "cell_type": "code",
   "execution_count": 3,
   "metadata": {
    "collapsed": false
   },
   "outputs": [
    {
     "name": "stdout",
     "output_type": "stream",
     "text": [
      "I'm about to!\n"
     ]
    }
   ],
   "source": [
    "print_message(\"I'm about to!\")"
   ]
  },
  {
   "cell_type": "code",
   "execution_count": 8,
   "metadata": {
    "collapsed": false
   },
   "outputs": [
    {
     "name": "stdout",
     "output_type": "stream",
     "text": [
      "Cause that's what I was born to do\n"
     ]
    }
   ],
   "source": [
    "another_message = \"Cause that's what I was born to do\"\n",
    "print_message(another_message)"
   ]
  },
  {
   "cell_type": "markdown",
   "metadata": {},
   "source": [
    "### Keyword Parameters"
   ]
  },
  {
   "cell_type": "code",
   "execution_count": 9,
   "metadata": {
    "collapsed": false
   },
   "outputs": [
    {
     "name": "stdout",
     "output_type": "stream",
     "text": [
      "So many times I heard your rhymes\n"
     ]
    }
   ],
   "source": [
    "print_message(my_message=\"So many times I heard your rhymes\")"
   ]
  },
  {
   "cell_type": "code",
   "execution_count": 31,
   "metadata": {
    "collapsed": false
   },
   "outputs": [],
   "source": [
    "def mad_libs(verb, adjective):\n",
    "    print(\"New Years Resolutions: \\n \\\n",
    "    1. I will {my_verb} every day \\n \\\n",
    "    2. I will admit that I have an {my_adj} personality.\".format( \\\n",
    "                            my_verb=verb, my_adj=adjective))"
   ]
  },
  {
   "cell_type": "code",
   "execution_count": 32,
   "metadata": {
    "collapsed": false
   },
   "outputs": [
    {
     "name": "stdout",
     "output_type": "stream",
     "text": [
      "New Years Resolutions: \n",
      "     1. I will shimmy every day \n",
      "     2. I will admit that I have an unintelligible personality.\n"
     ]
    }
   ],
   "source": [
    "mad_libs(verb=\"shimmy\", adjective=\"unintelligible\")"
   ]
  },
  {
   "cell_type": "markdown",
   "metadata": {},
   "source": [
    "### Positional Parameters"
   ]
  },
  {
   "cell_type": "code",
   "execution_count": 35,
   "metadata": {
    "collapsed": false
   },
   "outputs": [],
   "source": [
    "def mad_libs(verb, adjective):\n",
    "    print(\"New Years Resolutions: \\n \\\n",
    "    1. I will {} every day \\n \\\n",
    "    2. I will admit that I have a {} personality.\".format( \\\n",
    "                            verb, adjective))"
   ]
  },
  {
   "cell_type": "code",
   "execution_count": 36,
   "metadata": {
    "collapsed": false,
    "scrolled": true
   },
   "outputs": [
    {
     "name": "stdout",
     "output_type": "stream",
     "text": [
      "New Years Resolutions: \n",
      "     1. I will fight every day \n",
      "     2. I will admit that I have a confused personality.\n"
     ]
    }
   ],
   "source": [
    "mad_libs(\"fight\", \"confused\")"
   ]
  },
  {
   "cell_type": "markdown",
   "metadata": {},
   "source": [
    "### Setting Default Parameters"
   ]
  },
  {
   "cell_type": "code",
   "execution_count": 40,
   "metadata": {
    "collapsed": true
   },
   "outputs": [],
   "source": [
    "def mad_libs2(verb=\"silly\", adjective=\"Frodo-like\"):\n",
    "    print(\"New Years Resolutions: \\n \\\n",
    "    1. I will {} every day \\n \\\n",
    "    2. I will admit that I have a {} personality.\".format( \\\n",
    "                            verb, adjective))"
   ]
  },
  {
   "cell_type": "code",
   "execution_count": 41,
   "metadata": {
    "collapsed": false
   },
   "outputs": [
    {
     "name": "stdout",
     "output_type": "stream",
     "text": [
      "New Years Resolutions: \n",
      "     1. I will silly every day \n",
      "     2. I will admit that I have a Frodo-like personality.\n"
     ]
    }
   ],
   "source": [
    "mad_libs2()"
   ]
  },
  {
   "cell_type": "code",
   "execution_count": 42,
   "metadata": {
    "collapsed": false
   },
   "outputs": [
    {
     "name": "stdout",
     "output_type": "stream",
     "text": [
      "New Years Resolutions: \n",
      "     1. I will flap every day \n",
      "     2. I will admit that I have a blathering personality.\n"
     ]
    }
   ],
   "source": [
    "mad_libs2(\"flap\", \"blathering\")"
   ]
  },
  {
   "cell_type": "markdown",
   "metadata": {},
   "source": [
    "## Namespaces\n",
    "- containers mapping names to objects\n",
    "- formatted as dictionaries where names are keys, and values the object\n",
    "- multiple, independent namespaces"
   ]
  },
  {
   "cell_type": "code",
   "execution_count": 53,
   "metadata": {
    "collapsed": false
   },
   "outputs": [],
   "source": [
    "a_namespace = {'name_a':\"object_1\", 'name_b':\"object_2\"}"
   ]
  },
  {
   "cell_type": "markdown",
   "metadata": {},
   "source": [
    "## Scope\n",
    "- namespaces are arranged in a hierarchy\n",
    "- namespaces can be nested"
   ]
  },
  {
   "cell_type": "markdown",
   "metadata": {},
   "source": [
    "### Local Namespace\n",
    "- variable are local unless declared otherwise\n",
    "- variables defined inside a function, loop or code block are local (stay inside where they are defined)\n",
    "- reason why you can't use variables before you declare them"
   ]
  },
  {
   "cell_type": "markdown",
   "metadata": {},
   "source": [
    "### Global Namespace\n",
    "- use infrequently, can be dangerous\n",
    "- available to the entire script"
   ]
  },
  {
   "cell_type": "code",
   "execution_count": 55,
   "metadata": {
    "collapsed": false
   },
   "outputs": [
    {
     "name": "stdout",
     "output_type": "stream",
     "text": [
      "I love Paris in the summer!\n"
     ]
    }
   ],
   "source": [
    "# create a test function\n",
    "def f(): \n",
    "    print(s) \n",
    "    \n",
    "# create a global variable\n",
    "s = \"I love Paris in the summer!\"\n",
    "\n",
    "# use the global variable inside the function\n",
    "f()"
   ]
  },
  {
   "cell_type": "markdown",
   "metadata": {},
   "source": [
    "### What if we change the value of s inside the function? "
   ]
  },
  {
   "cell_type": "code",
   "execution_count": 56,
   "metadata": {
    "collapsed": false
   },
   "outputs": [
    {
     "name": "stdout",
     "output_type": "stream",
     "text": [
      "I love London!\n",
      "I love Paris!\n"
     ]
    }
   ],
   "source": [
    "def f(): \n",
    "    s = \"I love London!\"\n",
    "    print(s) \n",
    "\n",
    "s = \"I love Paris!\" \n",
    "f()\n",
    "print(s)"
   ]
  }
 ],
 "metadata": {
  "kernelspec": {
   "display_name": "Python 3",
   "language": "python",
   "name": "python3"
  },
  "language_info": {
   "codemirror_mode": {
    "name": "ipython",
    "version": 3
   },
   "file_extension": ".py",
   "mimetype": "text/x-python",
   "name": "python",
   "nbconvert_exporter": "python",
   "pygments_lexer": "ipython3",
   "version": "3.5.2"
  }
 },
 "nbformat": 4,
 "nbformat_minor": 2
}
