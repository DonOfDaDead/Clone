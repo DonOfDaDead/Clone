{
 "cells": [
  {
   "cell_type": "markdown",
   "metadata": {
    "deletable": true,
    "editable": true
   },
   "source": [
    "# Building a script with functions\n",
    "\n",
    "#### The Iris Dataset (famous testing dataset): \n",
    "\n",
    "1. sepal length in cm \n",
    "2. sepal width in cm \n",
    "3. petal length in cm \n",
    "4. petal width in cm \n",
    "5. class names\n",
    "\n",
    "#### Our task: \n",
    "- Read in the [Iris dataset](https://archive.ics.uci.edu/ml/machine-learning-databases/iris/iris.data)\n",
    "- Figure out how many classes of Iris are found in the file\n",
    "- Figure out the class name and count of each Iris in the file\n",
    "- Figure out the average sepal length for each class"
   ]
  },
  {
   "cell_type": "markdown",
   "metadata": {
    "collapsed": true,
    "deletable": true,
    "editable": true
   },
   "source": [
    "## Psuedocode\n",
    "Use commented blocks called psuedocode to help outline what you need to do.\n",
    "- Start at a high level\n",
    "- Then refine to be closer and closer to programming syntax\n",
    "- Add more and more detail as you\n",
    "- Can be used as comments on your code, saving you a step later on"
   ]
  },
  {
   "cell_type": "markdown",
   "metadata": {},
   "source": [
    "### Step 1: High level outline"
   ]
  },
  {
   "cell_type": "code",
   "execution_count": 1,
   "metadata": {
    "collapsed": true
   },
   "outputs": [],
   "source": [
    "# read in file\n",
    "# find unique count of iris class column\n",
    "# track the name of each iris class and count occurences\n",
    "# calculate average sepal length"
   ]
  },
  {
   "cell_type": "markdown",
   "metadata": {},
   "source": [
    "### Step 2: If easy, solve"
   ]
  },
  {
   "cell_type": "code",
   "execution_count": 39,
   "metadata": {
    "collapsed": true
   },
   "outputs": [],
   "source": [
    "# get user argument for iris file path\n",
    "import sys\n",
    "\n",
    "in_file = \"./iris.csv\""
   ]
  },
  {
   "cell_type": "code",
   "execution_count": 40,
   "metadata": {
    "collapsed": false
   },
   "outputs": [],
   "source": [
    "# read in file\n",
    "import csv\n",
    "\n",
    "f = open(in_file)  \n",
    "my_file = csv.reader(f, delimiter=',')"
   ]
  },
  {
   "cell_type": "markdown",
   "metadata": {},
   "source": [
    "### Step 3: If it's not easy, break it into smaller chunks until you can solve it"
   ]
  },
  {
   "cell_type": "code",
   "execution_count": null,
   "metadata": {
    "collapsed": true
   },
   "outputs": [],
   "source": [
    "# find unique count of iris class column\n",
    "    # iris class = row[4]\n",
    "    # loop through each row\n",
    "    # add row[4] to a list\n",
    "    # take set of that list\n",
    "    \n",
    "# track the name of each iris class and count occurences\n",
    "    # use a dictionary to store name and count info\n",
    "    # loop through dictionary to track name and count\n",
    "\n",
    "# calculate average sepal length\n",
    "    # average = sum of list/length of list\n",
    "    # sepal length = row[0]\n",
    "    # pull out sepal length and create as list\n",
    "    # get list sum\n",
    "    # get list length\n",
    "    # divide them\n",
    "    \n",
    "# turn all the above into functions"
   ]
  },
  {
   "cell_type": "markdown",
   "metadata": {},
   "source": [
    "### Step 4: Solve Each Piece"
   ]
  },
  {
   "cell_type": "code",
   "execution_count": 7,
   "metadata": {
    "collapsed": false
   },
   "outputs": [
    {
     "name": "stdout",
     "output_type": "stream",
     "text": [
      "3\n"
     ]
    }
   ],
   "source": [
    "# find unique count of iris class column\n",
    "# iris class = row[4]\n",
    "\n",
    "class_list = []\n",
    "# loop through each row\n",
    "for row in my_file:\n",
    "    # add row[4] to a list\n",
    "    class_list.append(row[4])\n",
    "\n",
    "# take set of that list\n",
    "unique_classes = set(class_list)\n",
    "print(len(unique_classes))"
   ]
  },
  {
   "cell_type": "code",
   "execution_count": 11,
   "metadata": {
    "collapsed": true
   },
   "outputs": [],
   "source": [
    "# track the name of each iris class and count occurences  \n",
    "# use a dictionary to store name and count info\n",
    "iris_class_dict = {}\n",
    "    \n",
    "# loop through dictionary to track name and count\n",
    "for row in my_file:\n",
    "    class_name = row[4]\n",
    "\n",
    "    # for every row, check if the class_name is in the dictionary\n",
    "    if class_name in iris_class_dict:\n",
    "        iris_class_dict[class_name] = iris_class_dict[class_name] + 1\n",
    "\n",
    "    # if not, add it, and set the count to 1\n",
    "    else:\n",
    "        iris_class_dict[class_name] = 1"
   ]
  },
  {
   "cell_type": "code",
   "execution_count": 12,
   "metadata": {
    "collapsed": false
   },
   "outputs": [
    {
     "name": "stdout",
     "output_type": "stream",
     "text": [
      "{'Iris-virginica': 50, 'Iris-setosa': 50, 'Iris-versicolor': 50}\n"
     ]
    }
   ],
   "source": [
    "print(iris_class_dict)"
   ]
  },
  {
   "cell_type": "code",
   "execution_count": 41,
   "metadata": {
    "collapsed": false
   },
   "outputs": [],
   "source": [
    "# calculate average sepal length\n",
    "# average = sum of list/length of list\n",
    "# sepal length = row[0]\n",
    "# pull out sepal length and create as list\n",
    "sepal_length_list = []\n",
    "# loop through each row\n",
    "for row in my_file:\n",
    "    # add row[0] to a list\n",
    "    sepal_length_list.append(float(row[0]))\n",
    "\n",
    "# get list sum\n",
    "sepal_sum = sum(sepal_length_list)\n",
    "# get list length\n",
    "sepal_list_length = len(sepal_length_list)\n",
    "# divide them\n",
    "sepal_avg = sepal_sum/sepal_list_length"
   ]
  },
  {
   "cell_type": "code",
   "execution_count": 44,
   "metadata": {
    "collapsed": false
   },
   "outputs": [
    {
     "name": "stdout",
     "output_type": "stream",
     "text": [
      "876.5000000000002\n",
      "150\n",
      "5.843333333333335\n"
     ]
    }
   ],
   "source": [
    "print(sepal_sum)\n",
    "print(sepal_list_length)\n",
    "print(sepal_avg)"
   ]
  },
  {
   "cell_type": "markdown",
   "metadata": {},
   "source": [
    "### Step 5: Turn into functions\n",
    "- General Rule: Each function should perform a different task\n",
    "    - Easier to troubleshoot\n",
    "    - Easier to re-use\n",
    "- Don't forget: functions need to get input parameters and return values\n",
    "- Later, we will see how you can create a class to hold functions that all work for a similar purpose"
   ]
  },
  {
   "cell_type": "code",
   "execution_count": null,
   "metadata": {
    "collapsed": true
   },
   "outputs": [],
   "source": [
    "# get user argument for iris file path\n",
    "import sys\n",
    "\n",
    "in_file = \"./iris.csv\"\n",
    "\n",
    "# read in file\n",
    "import csv\n",
    "\n",
    "f = open(in_file)  \n",
    "my_file = csv.reader(f, delimiter=',')"
   ]
  },
  {
   "cell_type": "code",
   "execution_count": 54,
   "metadata": {
    "collapsed": true
   },
   "outputs": [],
   "source": [
    "import sys\n",
    "import csv\n",
    "\n",
    "def read_in_csv(file_path):\n",
    "    f = open(file_path)\n",
    "    my_file = csv.reader(f)\n",
    "    return my_file"
   ]
  },
  {
   "cell_type": "code",
   "execution_count": 55,
   "metadata": {
    "collapsed": false
   },
   "outputs": [],
   "source": [
    "now_my_file = read_in_csv(\"./iris.csv\")"
   ]
  },
  {
   "cell_type": "code",
   "execution_count": null,
   "metadata": {
    "collapsed": true
   },
   "outputs": [],
   "source": [
    "# find unique count of iris class column\n",
    "# iris class = row[4]\n",
    "\n",
    "class_list = []\n",
    "# loop through each row\n",
    "for row in my_file:\n",
    "    # add row[4] to a list\n",
    "    class_list.append(row[4])\n",
    "\n",
    "# take set of that list\n",
    "unique_classes = set(class_list)\n",
    "print(len(unique_classes))"
   ]
  },
  {
   "cell_type": "code",
   "execution_count": 52,
   "metadata": {
    "collapsed": true
   },
   "outputs": [],
   "source": [
    "def get_column_unique(in_file, col_number):\n",
    "    col_list = []\n",
    "    my_file = read_in_csv(in_file)\n",
    "    for row in my_file:\n",
    "        col_list.append(row[col_number])\n",
    "    unique_vals = set(col_list)\n",
    "    unique_length = len(unique_vals)\n",
    "    return unique_length    "
   ]
  },
  {
   "cell_type": "code",
   "execution_count": 64,
   "metadata": {
    "collapsed": false
   },
   "outputs": [
    {
     "data": {
      "text/plain": [
       "3"
      ]
     },
     "execution_count": 64,
     "metadata": {},
     "output_type": "execute_result"
    }
   ],
   "source": [
    "get_column_unique(\"./iris.csv\", 4)"
   ]
  },
  {
   "cell_type": "code",
   "execution_count": 56,
   "metadata": {
    "collapsed": true
   },
   "outputs": [],
   "source": [
    "# track the name of each iris class and count occurences  \n",
    "# use a dictionary to store name and count info\n",
    "iris_class_dict = {}\n",
    "    \n",
    "# loop through dictionary to track name and count\n",
    "for row in my_file:\n",
    "    class_name = row[4]\n",
    "\n",
    "    # for every row, check if the class_name is in the dictionary\n",
    "    if class_name in iris_class_dict:\n",
    "        iris_class_dict[class_name] = iris_class_dict[class_name] + 1\n",
    "\n",
    "    # if not, add it, and set the count to 1\n",
    "    else:\n",
    "        iris_class_dict[class_name] = 1"
   ]
  },
  {
   "cell_type": "code",
   "execution_count": 62,
   "metadata": {
    "collapsed": false
   },
   "outputs": [],
   "source": [
    "def count_things(in_file, col_number):\n",
    "    my_dict = {}\n",
    "    my_file = read_in_csv(in_file)\n",
    "    \n",
    "    # loop through dictionary to track name and count\n",
    "    for row in my_file:\n",
    "        key_name = row[col_number]\n",
    "        \n",
    "        # for every row, check if the class_name is in the dictionary\n",
    "        if key_name in my_dict:\n",
    "            my_dict[key_name] = my_dict[key_name] + 1\n",
    "        \n",
    "        # if not, add it, and set the count to 1\n",
    "        else:\n",
    "            my_dict[key_name] = 1\n",
    "    \n",
    "    return my_dict"
   ]
  },
  {
   "cell_type": "code",
   "execution_count": 63,
   "metadata": {
    "collapsed": false
   },
   "outputs": [
    {
     "data": {
      "text/plain": [
       "{'Iris-setosa': 50, 'Iris-versicolor': 50, 'Iris-virginica': 50}"
      ]
     },
     "execution_count": 63,
     "metadata": {},
     "output_type": "execute_result"
    }
   ],
   "source": [
    "count_things(\"./iris.csv\", 4)"
   ]
  },
  {
   "cell_type": "markdown",
   "metadata": {},
   "source": [
    "## Put it all together\n",
    "[Let's see how this all fits together in a script!](iris_script.py)"
   ]
  }
 ],
 "metadata": {
  "kernelspec": {
   "display_name": "Python 3",
   "language": "python",
   "name": "python3"
  },
  "language_info": {
   "codemirror_mode": {
    "name": "ipython",
    "version": 3
   },
   "file_extension": ".py",
   "mimetype": "text/x-python",
   "name": "python",
   "nbconvert_exporter": "python",
   "pygments_lexer": "ipython3",
   "version": "3.5.2"
  }
 },
 "nbformat": 4,
 "nbformat_minor": 2
}
