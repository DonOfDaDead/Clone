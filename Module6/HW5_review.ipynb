{
 "cells": [
  {
   "cell_type": "markdown",
   "metadata": {
    "deletable": true,
    "editable": true
   },
   "source": [
    "# HW 5 Review\n",
    "- Using the airports.dat file from HW4 (copy and paste from the web to a text file)\n",
    "- Read the file in using CSV reader as you did in HW4\n",
    "- Use a dictionary to count the number of airports in the file by tracking the country name and count per country.\n",
    "- Use your country count data from step 2 to:\n",
    "- Find the country with the most (max) entries (rows)\n",
    "- Find the country with the least (min) entries (rows)\n",
    "- Find the average (mean) number of entries per country\n",
    "- Use string formatting to print out this information in a pretty way\n",
    "- Save the output to a file named HW5.txt (see the lecture notes from module 4)\n",
    "- Turn in HW5.py and HW.txt"
   ]
  },
  {
   "cell_type": "markdown",
   "metadata": {
    "deletable": true,
    "editable": true
   },
   "source": [
    "## Read in the file using CSV Reader"
   ]
  },
  {
   "cell_type": "code",
   "execution_count": 1,
   "metadata": {
    "collapsed": false,
    "deletable": true,
    "editable": true
   },
   "outputs": [],
   "source": [
    "import csv\n",
    "\n",
    "f = open(\"../Module5/airports.dat\")\n",
    "reader = csv.reader(f, delimiter=',') "
   ]
  },
  {
   "cell_type": "markdown",
   "metadata": {
    "deletable": true,
    "editable": true
   },
   "source": [
    "## Use a dictionary to count number of airports per country"
   ]
  },
  {
   "cell_type": "markdown",
   "metadata": {
    "deletable": true,
    "editable": true
   },
   "source": [
    "### Pull out country name "
   ]
  },
  {
   "cell_type": "code",
   "execution_count": 17,
   "metadata": {
    "collapsed": false,
    "deletable": true,
    "editable": true
   },
   "outputs": [
    {
     "name": "stdout",
     "output_type": "stream",
     "text": [
      "Papua New Guinea\n",
      "Papua New Guinea\n",
      "Papua New Guinea\n",
      "Papua New Guinea\n",
      "Papua New Guinea\n",
      "Papua New Guinea\n",
      "Greenland\n",
      "Greenland\n",
      "Greenland\n",
      "Greenland\n",
      "Iceland\n",
      "Iceland\n",
      "Iceland\n",
      "Iceland\n",
      "Iceland\n",
      "Iceland\n",
      "Iceland\n",
      "Iceland\n",
      "Iceland\n",
      "Iceland\n"
     ]
    }
   ],
   "source": [
    "for row in reader:\n",
    "    print(row[3])"
   ]
  },
  {
   "cell_type": "markdown",
   "metadata": {
    "deletable": true,
    "editable": true
   },
   "source": [
    "## Store this information in a dictionary"
   ]
  },
  {
   "cell_type": "code",
   "execution_count": 2,
   "metadata": {
    "collapsed": true,
    "deletable": true,
    "editable": true
   },
   "outputs": [],
   "source": [
    "# create an empty dictionary to store things\n",
    "airport_count = {}"
   ]
  },
  {
   "cell_type": "code",
   "execution_count": 3,
   "metadata": {
    "collapsed": false,
    "deletable": true,
    "editable": true
   },
   "outputs": [],
   "source": [
    "for row in reader:\n",
    "    country = row[3]\n",
    "    if country in airport_count:\n",
    "       airport_count[country] = airport_count[country] + 1\n",
    "    else:\n",
    "        airport_count[country] = 1"
   ]
  },
  {
   "cell_type": "code",
   "execution_count": 74,
   "metadata": {
    "collapsed": false,
    "deletable": true,
    "editable": true
   },
   "outputs": [
    {
     "name": "stdout",
     "output_type": "stream",
     "text": [
      "{'Palestine': 1, 'Burma': 43, 'Anguilla': 1, 'Sierra Leone': 7, 'Gibraltar': 1, 'Niue': 1, 'New Zealand': 52, 'Costa Rica': 30, 'Iceland': 20, 'Benin': 1, 'Indonesia': 125, 'Algeria': 43, 'Kenya': 35, 'Australia': 296, 'Vietnam': 24, 'Slovakia': 8, 'British Indian Ocean Territory': 1, 'Russia': 238, 'Haiti': 6, 'Spain': 62, 'Belize': 2, 'Palau': 1, 'Armenia': 5, 'Canada': 417, 'Turkmenistan': 5, 'Syria': 6, 'Antarctica': 7, 'Guinea': 6, 'Saint Vincent and the Grenadines': 5, 'Guinea-Bissau': 3, 'Luxembourg': 1, 'Senegal': 9, 'Turkey': 72, 'Suriname': 16, 'Pakistan': 52, 'Saudi Arabia': 44, 'Montenegro': 2, 'Ukraine': 36, 'Latvia': 6, 'Sri Lanka': 12, 'Central African Republic': 2, 'Ethiopia': 29, 'East Timor': 3, 'Malawi': 8, 'Puerto Rico': 10, 'Switzerland': 41, 'Argentina': 94, \"Cote d'Ivoire\": 7, 'Liberia': 3, 'Ireland': 17, 'Vanuatu': 29, 'French Guiana': 6, 'Brunei': 2, 'Zimbabwe': 15, 'Mali': 8, 'Kyrgyzstan': 5, 'Sudan': 18, 'Lithuania': 9, 'Svalbard': 2, 'Malaysia': 40, 'Bulgaria': 11, 'French Polynesia': 36, 'Poland': 38, 'Israel': 16, 'Malta': 2, 'Comoros': 4, 'South Africa': 96, 'Gambia': 1, 'France': 214, 'Hungary': 12, 'India': 125, 'Botswana': 13, 'Wallis and Futuna': 2, 'Finland': 51, 'Saint Pierre and Miquelon': 2, 'Norfolk Island': 1, 'Barbados': 1, 'Mauritius': 2, 'Venezuela': 57, 'Turks and Caicos Islands': 6, 'American Samoa': 2, 'Hong Kong': 3, 'Mongolia': 13, 'Jersey': 1, 'Italy': 82, 'Nigeria': 22, 'Trinidad and Tobago': 2, 'Greenland': 22, 'Afghanistan': 20, 'Myanmar': 1, 'Cook Islands': 8, 'New Caledonia': 11, 'Cocos (Keeling) Islands': 1, 'Albania': 5, 'Panama': 13, 'Iraq': 16, 'Solomon Islands': 23, 'Saint Kitts and Nevis': 2, 'Cambodia': 9, 'Christmas Island': 1, 'Czech Republic': 24, 'Georgia': 5, 'Mayotte': 1, 'Kazakhstan': 24, 'Guadeloupe': 7, 'Congo (Brazzaville)': 3, 'Aruba': 1, 'United States': 1435, 'South Sudan': 2, 'Mexico': 83, 'Singapore': 6, 'Iran': 81, 'Netherlands Antilles': 5, 'Cayman Islands': 3, 'Cape Verde': 7, 'El Salvador': 2, 'Namibia': 16, 'Sweden': 77, 'Reunion': 3, 'Seychelles': 8, 'Bhutan': 3, 'Macedonia': 2, 'Bahamas': 33, 'West Bank': 1, 'Nicaragua': 12, 'United Kingdom': 162, 'Falkland Islands': 2, 'Zambia': 12, 'Togo': 2, 'Jamaica': 6, 'Mozambique': 19, 'Belarus': 10, 'United Arab Emirates': 17, 'Papua New Guinea': 26, 'Libya': 17, 'Virgin Islands': 3, 'Burundi': 1, 'Macau': 1, 'Romania': 19, 'Angola': 24, 'North Korea': 4, 'Dominican Republic': 13, 'Bangladesh': 10, 'Madagascar': 43, 'Cameroon': 10, 'Netherlands': 26, 'Niger': 7, 'Tanzania': 23, 'Lesotho': 3, 'Bahrain': 2, 'Marshall Islands': 8, 'Chile': 44, 'Wake Island': 1, 'Portugal': 32, 'Johnston Atoll': 1, 'Saint Lucia': 2, 'Brazil': 234, 'Azerbaijan': 7, 'Uruguay': 11, 'Bermuda': 1, 'Greece': 55, 'Djibouti': 3, 'Tunisia': 12, 'Equatorial Guinea': 2, 'Uganda': 10, 'Denmark': 27, 'Dominica': 2, 'Samoa': 3, 'Lebanon': 3, 'Faroe Islands': 5, 'Laos': 12, 'Cuba': 32, 'Ghana': 6, 'Nepal': 32, 'Nauru': 1, 'Cyprus': 4, 'Egypt': 24, 'Oman': 6, 'Ecuador': 35, 'Guernsey': 2, 'Martinique': 1, 'Tajikistan': 4, 'Burkina Faso': 2, 'Philippines': 64, 'Estonia': 9, 'South Korea': 29, 'Yemen': 11, 'Qatar': 2, 'Moldova': 5, 'Mauritania': 11, 'Maldives': 11, 'Guam': 2, 'Morocco': 22, 'Norway': 61, 'Midway Islands': 1, 'Paraguay': 8, 'Belgium': 24, 'Rwanda': 3, 'Croatia': 14, 'Congo (Kinshasa)': 44, 'China': 180, 'Antigua and Barbuda': 2, 'Japan': 119, 'Guatemala': 10, 'Jordan': 5, 'Chad': 6, 'Slovenia': 5, 'British Virgin Islands': 3, 'Peru': 42, 'Guyana': 13, 'Isle of Man': 1, 'Western Sahara': 3, 'Thailand': 50, 'Bosnia and Herzegovina': 4, 'Eritrea': 3, 'Colombia': 74, 'Bolivia': 23, 'Uzbekistan': 13, 'Somalia': 8, 'Honduras': 12, 'Austria': 19, 'Saint Helena': 1, 'Sao Tome and Principe': 2, 'Taiwan': 24, 'Kuwait': 3, 'Kiribati': 18, 'Germany': 241, 'Gabon': 13, 'Grenada': 1, 'Northern Mariana Islands': 3, 'Serbia': 5, 'Tonga': 6, 'Montserrat': 1, 'Micronesia': 4, 'Swaziland': 1, 'Fiji': 17, 'Tuvalu': 1}\n"
     ]
    }
   ],
   "source": [
    "print(airport_count)"
   ]
  },
  {
   "cell_type": "markdown",
   "metadata": {
    "deletable": true,
    "editable": true
   },
   "source": [
    "## Find the country with the most entries"
   ]
  },
  {
   "cell_type": "code",
   "execution_count": 63,
   "metadata": {
    "collapsed": false,
    "deletable": true,
    "editable": true
   },
   "outputs": [
    {
     "name": "stdout",
     "output_type": "stream",
     "text": [
      "dict_keys(['Palestine', 'Burma', 'Anguilla', 'Sierra Leone', 'Gibraltar', 'Niue', 'New Zealand', 'Costa Rica', 'Iceland', 'Benin', 'Indonesia', 'Algeria', 'Kenya', 'Australia', 'Vietnam', 'Slovakia', 'British Indian Ocean Territory', 'Russia', 'Haiti', 'Spain', 'Belize', 'Palau', 'Armenia', 'Canada', 'Turkmenistan', 'Syria', 'Antarctica', 'Guinea', 'Saint Vincent and the Grenadines', 'Guinea-Bissau', 'Luxembourg', 'Senegal', 'Turkey', 'Suriname', 'Pakistan', 'Saudi Arabia', 'Montenegro', 'Ukraine', 'Latvia', 'Sri Lanka', 'Central African Republic', 'Ethiopia', 'East Timor', 'Malawi', 'Puerto Rico', 'Switzerland', 'Argentina', \"Cote d'Ivoire\", 'Liberia', 'Ireland', 'Vanuatu', 'French Guiana', 'Brunei', 'Zimbabwe', 'Mali', 'Kyrgyzstan', 'Sudan', 'Lithuania', 'Svalbard', 'Malaysia', 'Bulgaria', 'French Polynesia', 'Poland', 'Israel', 'Malta', 'Comoros', 'South Africa', 'Gambia', 'France', 'Hungary', 'India', 'Botswana', 'Wallis and Futuna', 'Finland', 'Saint Pierre and Miquelon', 'Norfolk Island', 'Barbados', 'Mauritius', 'Venezuela', 'Turks and Caicos Islands', 'American Samoa', 'Hong Kong', 'Mongolia', 'Jersey', 'Italy', 'Nigeria', 'Trinidad and Tobago', 'Greenland', 'Afghanistan', 'Myanmar', 'Cook Islands', 'New Caledonia', 'Cocos (Keeling) Islands', 'Albania', 'Panama', 'Iraq', 'Solomon Islands', 'Saint Kitts and Nevis', 'Cambodia', 'Christmas Island', 'Czech Republic', 'Georgia', 'Mayotte', 'Kazakhstan', 'Guadeloupe', 'Congo (Brazzaville)', 'Aruba', 'United States', 'South Sudan', 'Mexico', 'Singapore', 'Iran', 'Netherlands Antilles', 'Cayman Islands', 'Cape Verde', 'El Salvador', 'Namibia', 'Sweden', 'Reunion', 'Seychelles', 'Bhutan', 'Macedonia', 'Bahamas', 'West Bank', 'Nicaragua', 'United Kingdom', 'Falkland Islands', 'Zambia', 'Togo', 'Jamaica', 'Mozambique', 'Belarus', 'United Arab Emirates', 'Papua New Guinea', 'Libya', 'Virgin Islands', 'Burundi', 'Macau', 'Romania', 'Angola', 'North Korea', 'Dominican Republic', 'Bangladesh', 'Madagascar', 'Cameroon', 'Netherlands', 'Niger', 'Tanzania', 'Lesotho', 'Bahrain', 'Marshall Islands', 'Chile', 'Wake Island', 'Portugal', 'Johnston Atoll', 'Saint Lucia', 'Brazil', 'Azerbaijan', 'Uruguay', 'Bermuda', 'Greece', 'Djibouti', 'Tunisia', 'Equatorial Guinea', 'Uganda', 'Denmark', 'Dominica', 'Samoa', 'Lebanon', 'Faroe Islands', 'Laos', 'Cuba', 'Ghana', 'Nepal', 'Nauru', 'Cyprus', 'Egypt', 'Oman', 'Ecuador', 'Guernsey', 'Martinique', 'Tajikistan', 'Burkina Faso', 'Philippines', 'Estonia', 'South Korea', 'Yemen', 'Qatar', 'Moldova', 'Mauritania', 'Maldives', 'Guam', 'Morocco', 'Norway', 'Midway Islands', 'Paraguay', 'Belgium', 'Rwanda', 'Croatia', 'Congo (Kinshasa)', 'China', 'Antigua and Barbuda', 'Japan', 'Guatemala', 'Jordan', 'Chad', 'Slovenia', 'British Virgin Islands', 'Peru', 'Guyana', 'Isle of Man', 'Western Sahara', 'Thailand', 'Bosnia and Herzegovina', 'Eritrea', 'Colombia', 'Bolivia', 'Uzbekistan', 'Somalia', 'Honduras', 'Austria', 'Saint Helena', 'Sao Tome and Principe', 'Taiwan', 'Kuwait', 'Kiribati', 'Germany', 'Gabon', 'Grenada', 'Northern Mariana Islands', 'Serbia', 'Tonga', 'Montserrat', 'Micronesia', 'Swaziland', 'Fiji', 'Tuvalu'])\n"
     ]
    }
   ],
   "source": [
    "print(airport_count.keys())"
   ]
  },
  {
   "cell_type": "code",
   "execution_count": 64,
   "metadata": {
    "collapsed": false,
    "deletable": true,
    "editable": true
   },
   "outputs": [
    {
     "name": "stdout",
     "output_type": "stream",
     "text": [
      "dict_values([1, 43, 1, 7, 1, 1, 52, 30, 20, 1, 125, 43, 35, 296, 24, 8, 1, 238, 6, 62, 2, 1, 5, 417, 5, 6, 7, 6, 5, 3, 1, 9, 72, 16, 52, 44, 2, 36, 6, 12, 2, 29, 3, 8, 10, 41, 94, 7, 3, 17, 29, 6, 2, 15, 8, 5, 18, 9, 2, 40, 11, 36, 38, 16, 2, 4, 96, 1, 214, 12, 125, 13, 2, 51, 2, 1, 1, 2, 57, 6, 2, 3, 13, 1, 82, 22, 2, 22, 20, 1, 8, 11, 1, 5, 13, 16, 23, 2, 9, 1, 24, 5, 1, 24, 7, 3, 1, 1435, 2, 83, 6, 81, 5, 3, 7, 2, 16, 77, 3, 8, 3, 2, 33, 1, 12, 162, 2, 12, 2, 6, 19, 10, 17, 26, 17, 3, 1, 1, 19, 24, 4, 13, 10, 43, 10, 26, 7, 23, 3, 2, 8, 44, 1, 32, 1, 2, 234, 7, 11, 1, 55, 3, 12, 2, 10, 27, 2, 3, 3, 5, 12, 32, 6, 32, 1, 4, 24, 6, 35, 2, 1, 4, 2, 64, 9, 29, 11, 2, 5, 11, 11, 2, 22, 61, 1, 8, 24, 3, 14, 44, 180, 2, 119, 10, 5, 6, 5, 3, 42, 13, 1, 3, 50, 4, 3, 74, 23, 13, 8, 12, 19, 1, 2, 24, 3, 18, 241, 13, 1, 3, 5, 6, 1, 4, 1, 17, 1])\n"
     ]
    }
   ],
   "source": [
    "print(airport_count.values())"
   ]
  },
  {
   "cell_type": "code",
   "execution_count": 65,
   "metadata": {
    "collapsed": false,
    "deletable": true,
    "editable": true
   },
   "outputs": [
    {
     "name": "stdout",
     "output_type": "stream",
     "text": [
      "{'country': 'United States', 'count': 1435}\n"
     ]
    }
   ],
   "source": [
    "Counter = 0\n",
    "max_country = {}\n",
    "\n",
    "for key, value in airport_count.items():\n",
    "    if value > Counter:\n",
    "        Counter = value\n",
    "        max_country['country'] = key\n",
    "        max_country['count'] = value\n",
    "print(max_country)\n"
   ]
  },
  {
   "cell_type": "code",
   "execution_count": 66,
   "metadata": {
    "collapsed": false,
    "deletable": true,
    "editable": true
   },
   "outputs": [
    {
     "data": {
      "text/plain": [
       "1435"
      ]
     },
     "execution_count": 66,
     "metadata": {},
     "output_type": "execute_result"
    }
   ],
   "source": [
    "max(airport_count.values())"
   ]
  },
  {
   "cell_type": "markdown",
   "metadata": {
    "collapsed": true,
    "deletable": true,
    "editable": true
   },
   "source": [
    "## Find the country with the last entries"
   ]
  },
  {
   "cell_type": "code",
   "execution_count": 81,
   "metadata": {
    "collapsed": false,
    "deletable": true,
    "editable": true
   },
   "outputs": [
    {
     "name": "stdout",
     "output_type": "stream",
     "text": [
      "{'country': 'Tuvalu', 'count': 1}\n"
     ]
    }
   ],
   "source": [
    "Counter2 = 1\n",
    "min_country = {}\n",
    "\n",
    "for key, value in airport_count.items():\n",
    "    if value <= Counter2:\n",
    "        Counter2 = value\n",
    "        min_country['country'] = key\n",
    "        min_country['count'] = value\n",
    "print(min_country)"
   ]
  },
  {
   "cell_type": "code",
   "execution_count": 82,
   "metadata": {
    "collapsed": false,
    "deletable": true,
    "editable": true
   },
   "outputs": [
    {
     "name": "stdout",
     "output_type": "stream",
     "text": [
      "1\n"
     ]
    }
   ],
   "source": [
    "print(min(airport_count.values()))"
   ]
  },
  {
   "cell_type": "markdown",
   "metadata": {
    "deletable": true,
    "editable": true
   },
   "source": [
    "#### But wait... there's a tie!\n",
    "- dictionaries are not sorted\n",
    "- but they will be in Python 3.6"
   ]
  },
  {
   "cell_type": "code",
   "execution_count": 96,
   "metadata": {
    "collapsed": false,
    "deletable": true,
    "editable": true
   },
   "outputs": [
    {
     "name": "stdout",
     "output_type": "stream",
     "text": [
      "Palestine 1\n",
      "Anguilla 1\n",
      "Gibraltar 1\n",
      "Niue 1\n",
      "Benin 1\n",
      "British Indian Ocean Territory 1\n",
      "Palau 1\n",
      "Luxembourg 1\n",
      "Gambia 1\n",
      "Norfolk Island 1\n",
      "Barbados 1\n",
      "Jersey 1\n",
      "Myanmar 1\n",
      "Cocos (Keeling) Islands 1\n",
      "Christmas Island 1\n",
      "Mayotte 1\n",
      "Aruba 1\n",
      "West Bank 1\n",
      "Burundi 1\n",
      "Macau 1\n",
      "Wake Island 1\n",
      "Johnston Atoll 1\n",
      "Bermuda 1\n",
      "Nauru 1\n",
      "Martinique 1\n",
      "Midway Islands 1\n",
      "Isle of Man 1\n",
      "Saint Helena 1\n",
      "Grenada 1\n",
      "Montserrat 1\n",
      "Swaziland 1\n",
      "Tuvalu 1\n"
     ]
    }
   ],
   "source": [
    "for key, value in airport_count.items():\n",
    "    if value == 1:\n",
    "        print(key, value)"
   ]
  },
  {
   "cell_type": "markdown",
   "metadata": {
    "deletable": true,
    "editable": true
   },
   "source": [
    "## Find Average Count"
   ]
  },
  {
   "cell_type": "code",
   "execution_count": 116,
   "metadata": {
    "collapsed": true,
    "deletable": true,
    "editable": true
   },
   "outputs": [],
   "source": [
    "def get_average(input_list):\n",
    "    avg = sum(input_list)/len(input_list)\n",
    "    return(avg)"
   ]
  },
  {
   "cell_type": "code",
   "execution_count": 105,
   "metadata": {
    "collapsed": false,
    "deletable": true,
    "editable": true
   },
   "outputs": [],
   "source": [
    "count_list = list(airport_count.values())"
   ]
  },
  {
   "cell_type": "code",
   "execution_count": 118,
   "metadata": {
    "collapsed": false,
    "deletable": true,
    "editable": true
   },
   "outputs": [
    {
     "name": "stdout",
     "output_type": "stream",
     "text": [
      "30.31223628691983\n"
     ]
    }
   ],
   "source": [
    "print(get_average(count_list))"
   ]
  },
  {
   "cell_type": "markdown",
   "metadata": {},
   "source": [
    "## Save Things to a File"
   ]
  },
  {
   "cell_type": "markdown",
   "metadata": {},
   "source": [
    "### with CSV Reader is.. complicated"
   ]
  },
  {
   "cell_type": "code",
   "execution_count": null,
   "metadata": {
    "collapsed": true
   },
   "outputs": [],
   "source": [
    "out_handle = open(\"output.csv\", \"w+\")\n",
    "w = csv.writer(out_handle)\n",
    "for key, val in country_counts.items():\n",
    "    w.writerow([key, val])"
   ]
  },
  {
   "cell_type": "markdown",
   "metadata": {},
   "source": [
    "### Just use write()"
   ]
  },
  {
   "cell_type": "code",
   "execution_count": null,
   "metadata": {
    "collapsed": true
   },
   "outputs": [],
   "source": [
    "f = open(\"output.txt\",\"w+\")\n",
    "f.write( str(country_counts) )\n",
    "f.close()"
   ]
  }
 ],
 "metadata": {
  "kernelspec": {
   "display_name": "Python 3",
   "language": "python",
   "name": "python3"
  },
  "language_info": {
   "codemirror_mode": {
    "name": "ipython",
    "version": 3
   },
   "file_extension": ".py",
   "mimetype": "text/x-python",
   "name": "python",
   "nbconvert_exporter": "python",
   "pygments_lexer": "ipython3",
   "version": "3.5.2"
  }
 },
 "nbformat": 4,
 "nbformat_minor": 2
}
