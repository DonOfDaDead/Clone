{
 "cells": [
  {
   "cell_type": "markdown",
   "metadata": {},
   "source": [
    "# Parsing Text: Advanced String Operations"
   ]
  },
  {
   "cell_type": "markdown",
   "metadata": {},
   "source": [
    "**The scenario:** You have some data you have to read in and parse. "
   ]
  },
  {
   "cell_type": "code",
   "execution_count": 24,
   "metadata": {
    "collapsed": true
   },
   "outputs": [],
   "source": [
    "in_file = open(\"./small_radish.txt\", \"r\")"
   ]
  },
  {
   "cell_type": "code",
   "execution_count": 25,
   "metadata": {
    "collapsed": false
   },
   "outputs": [
    {
     "name": "stdout",
     "output_type": "stream",
     "text": [
      "Evie Pulsford - April Cross\n",
      "\n",
      "Matilda Condon - April Cross\n",
      "\n",
      "Samantha Mansell - Champion\n",
      "\n",
      "geronima trevisani - cherry belle\n",
      "\n",
      "Alexandra Shoebridge - Snow Belle\n",
      "\n"
     ]
    }
   ],
   "source": [
    "for line in in_file:\n",
    "    print(line)"
   ]
  },
  {
   "cell_type": "markdown",
   "metadata": {},
   "source": [
    "### Strip Trailining new lines"
   ]
  },
  {
   "cell_type": "code",
   "execution_count": 27,
   "metadata": {
    "collapsed": false
   },
   "outputs": [
    {
     "name": "stdout",
     "output_type": "stream",
     "text": [
      "Evie Pulsford - April Cross\n",
      "Matilda Condon - April Cross\n",
      "Samantha Mansell - Champion\n",
      "geronima trevisani - cherry belle\n",
      "Alexandra Shoebridge - Snow Belle\n"
     ]
    }
   ],
   "source": [
    "for line in open(\"./small_radish.txt\"):\n",
    "    # strip trailing new lines \n",
    "    line = line.strip()\n",
    "    print(line)"
   ]
  },
  {
   "cell_type": "markdown",
   "metadata": {},
   "source": [
    "### Split Things by a delimiter "
   ]
  },
  {
   "cell_type": "code",
   "execution_count": 33,
   "metadata": {
    "collapsed": false
   },
   "outputs": [
    {
     "data": {
      "text/plain": [
       "['1', '2', '3', '4', '5']"
      ]
     },
     "execution_count": 33,
     "metadata": {},
     "output_type": "execute_result"
    }
   ],
   "source": [
    "\"1,2,3,4,5\".split(\",\")"
   ]
  },
  {
   "cell_type": "code",
   "execution_count": 34,
   "metadata": {
    "collapsed": false
   },
   "outputs": [
    {
     "data": {
      "text/plain": [
       "['cheese']"
      ]
     },
     "execution_count": 34,
     "metadata": {},
     "output_type": "execute_result"
    }
   ],
   "source": [
    "\"cheese\".split(\",\")"
   ]
  },
  {
   "cell_type": "code",
   "execution_count": 35,
   "metadata": {
    "collapsed": false
   },
   "outputs": [
    {
     "data": {
      "text/plain": [
       "['ch', '', 's', '']"
      ]
     },
     "execution_count": 35,
     "metadata": {},
     "output_type": "execute_result"
    }
   ],
   "source": [
    "\"cheese\".split(\"e\")"
   ]
  },
  {
   "cell_type": "code",
   "execution_count": 29,
   "metadata": {
    "collapsed": false
   },
   "outputs": [
    {
     "name": "stdout",
     "output_type": "stream",
     "text": [
      "['Evie Pulsford', 'April Cross']\n",
      "['Matilda Condon', 'April Cross']\n",
      "['Samantha Mansell', 'Champion']\n",
      "['geronima trevisani', 'cherry belle']\n",
      "['Alexandra Shoebridge', 'Snow Belle']\n"
     ]
    }
   ],
   "source": [
    "for line in open(\"./small_radish.txt\"):\n",
    "    # strip trailing new lines \n",
    "    line = line.strip()\n",
    "    parts = line.split(\" - \")\n",
    "    print(parts)"
   ]
  },
  {
   "cell_type": "markdown",
   "metadata": {},
   "source": [
    "### Assign the parts to a variable"
   ]
  },
  {
   "cell_type": "code",
   "execution_count": 30,
   "metadata": {
    "collapsed": false
   },
   "outputs": [
    {
     "name": "stdout",
     "output_type": "stream",
     "text": [
      "Evie Pulsford\n",
      "Matilda Condon\n",
      "Samantha Mansell\n",
      "geronima trevisani\n",
      "Alexandra Shoebridge\n"
     ]
    }
   ],
   "source": [
    "for line in open(\"./small_radish.txt\"):\n",
    "    # strip trailing new lines \n",
    "    line = line.strip()\n",
    "    parts = line.split(\" - \")\n",
    "    print(parts[0])"
   ]
  },
  {
   "cell_type": "code",
   "execution_count": 31,
   "metadata": {
    "collapsed": false
   },
   "outputs": [
    {
     "name": "stdout",
     "output_type": "stream",
     "text": [
      "April Cross\n",
      "April Cross\n",
      "Champion\n",
      "cherry belle\n",
      "Snow Belle\n"
     ]
    }
   ],
   "source": [
    "for line in open(\"./small_radish.txt\"):\n",
    "    # strip trailing new lines \n",
    "    line = line.strip()\n",
    "    parts = line.split(\" - \")\n",
    "    print(parts[1])"
   ]
  },
  {
   "cell_type": "code",
   "execution_count": 32,
   "metadata": {
    "collapsed": true
   },
   "outputs": [],
   "source": [
    "for line in open(\"./small_radish.txt\"):\n",
    "    # strip trailing new lines \n",
    "    line = line.strip()\n",
    "    parts = line.split(\" - \")\n",
    "    names = parts[0]\n",
    "    radish = parts[1]"
   ]
  },
  {
   "cell_type": "markdown",
   "metadata": {},
   "source": [
    "### Do things with each of the parts"
   ]
  },
  {
   "cell_type": "code",
   "execution_count": 40,
   "metadata": {
    "collapsed": false
   },
   "outputs": [
    {
     "name": "stdout",
     "output_type": "stream",
     "text": [
      "Evie Pulsford voted for April Cross!\n",
      "Matilda Condon voted for April Cross!\n"
     ]
    }
   ],
   "source": [
    "for line in open(\"./small_radish.txt\"):\n",
    "   line = line.strip()\n",
    "   parts = line.split(\" - \")\n",
    "   name, vote = parts\n",
    "   if vote == \"April Cross\":\n",
    "      print(name + \" voted for April Cross!\")"
   ]
  },
  {
   "cell_type": "markdown",
   "metadata": {},
   "source": [
    "## Multiple Assignment\n",
    "- Must balance both sides of the = statement"
   ]
  },
  {
   "cell_type": "code",
   "execution_count": 41,
   "metadata": {
    "collapsed": true
   },
   "outputs": [],
   "source": [
    "a, b, c = [1, 2, 3]"
   ]
  },
  {
   "cell_type": "code",
   "execution_count": 49,
   "metadata": {
    "collapsed": false
   },
   "outputs": [
    {
     "name": "stdout",
     "output_type": "stream",
     "text": [
      "1\n",
      "2\n",
      "3\n"
     ]
    }
   ],
   "source": [
    "print(a)\n",
    "print(b)\n",
    "print(c)"
   ]
  },
  {
   "cell_type": "code",
   "execution_count": 50,
   "metadata": {
    "collapsed": true
   },
   "outputs": [],
   "source": [
    "new_var1, new_var2 = (a * 2), (b * 2)"
   ]
  },
  {
   "cell_type": "code",
   "execution_count": 51,
   "metadata": {
    "collapsed": false
   },
   "outputs": [
    {
     "name": "stdout",
     "output_type": "stream",
     "text": [
      "2\n",
      "4\n"
     ]
    }
   ],
   "source": [
    "print(new_var1)\n",
    "print(new_var2)"
   ]
  },
  {
   "cell_type": "code",
   "execution_count": 52,
   "metadata": {
    "collapsed": true
   },
   "outputs": [],
   "source": [
    "name, cheese, cracker = \"Fred,Jarlsberg,Rye\".split(\",\")"
   ]
  },
  {
   "cell_type": "code",
   "execution_count": 53,
   "metadata": {
    "collapsed": false
   },
   "outputs": [
    {
     "name": "stdout",
     "output_type": "stream",
     "text": [
      "Jarlsberg\n"
     ]
    }
   ],
   "source": [
    "print(cheese)"
   ]
  },
  {
   "cell_type": "code",
   "execution_count": null,
   "metadata": {
    "collapsed": true
   },
   "outputs": [],
   "source": []
  }
 ],
 "metadata": {
  "kernelspec": {
   "display_name": "Python 3",
   "language": "python",
   "name": "python3"
  },
  "language_info": {
   "codemirror_mode": {
    "name": "ipython",
    "version": 3
   },
   "file_extension": ".py",
   "mimetype": "text/x-python",
   "name": "python",
   "nbconvert_exporter": "python",
   "pygments_lexer": "ipython3",
   "version": "3.5.2"
  }
 },
 "nbformat": 4,
 "nbformat_minor": 2
}
