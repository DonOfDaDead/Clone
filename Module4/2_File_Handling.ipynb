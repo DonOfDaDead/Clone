{
 "cells": [
  {
   "cell_type": "markdown",
   "metadata": {
    "deletable": true,
    "editable": true
   },
   "source": [
    "# File Handling"
   ]
  },
  {
   "cell_type": "markdown",
   "metadata": {
    "deletable": true,
    "editable": true
   },
   "source": [
    "## Reading in a file \n",
    "Text files are one of the most common file formats you'll probably have to deal with. \n",
    "- Cross platform\n",
    "- End in .txt"
   ]
  },
  {
   "cell_type": "code",
   "execution_count": 44,
   "metadata": {
    "collapsed": false,
    "deletable": true,
    "editable": true
   },
   "outputs": [],
   "source": [
    "f = open(\"./months.txt\")"
   ]
  },
  {
   "cell_type": "code",
   "execution_count": 45,
   "metadata": {
    "collapsed": false,
    "deletable": true,
    "editable": true
   },
   "outputs": [
    {
     "data": {
      "text/plain": [
       "<_io.TextIOWrapper name='./months.txt' mode='r' encoding='UTF-8'>"
      ]
     },
     "execution_count": 45,
     "metadata": {},
     "output_type": "execute_result"
    }
   ],
   "source": [
    "# creates a file object\n",
    "f"
   ]
  },
  {
   "cell_type": "code",
   "execution_count": 46,
   "metadata": {
    "collapsed": false
   },
   "outputs": [
    {
     "name": "stdout",
     "output_type": "stream",
     "text": [
      "January\n",
      "February\n",
      "March\n",
      "April\n",
      "May\n",
      "June\n",
      "July\n",
      "August\n",
      "September\n",
      "October\n",
      "November\n",
      "December\n",
      "\n"
     ]
    }
   ],
   "source": [
    "# now you can read in the file, contents returned as a string\n",
    "print(f.read())"
   ]
  },
  {
   "cell_type": "code",
   "execution_count": 29,
   "metadata": {
    "collapsed": false
   },
   "outputs": [
    {
     "name": "stdout",
     "output_type": "stream",
     "text": [
      "Ja\n"
     ]
    }
   ],
   "source": [
    "# read in a specific number of characters\n",
    "print(f.read(2))"
   ]
  },
  {
   "cell_type": "markdown",
   "metadata": {},
   "source": [
    "## Reading in a file line by line"
   ]
  },
  {
   "cell_type": "markdown",
   "metadata": {},
   "source": [
    "- End of line characters or control characters: invisibly mark the end of a line in a text file  \n",
    "- You can create with the \"\\n\"  \n",
    "- Derived from back in the typewriter days when you had to enter in a line return"
   ]
  },
  {
   "cell_type": "code",
   "execution_count": 30,
   "metadata": {
    "collapsed": false
   },
   "outputs": [
    {
     "name": "stdout",
     "output_type": "stream",
     "text": [
      "Here's the first line \n",
      " and here's the second\n"
     ]
    }
   ],
   "source": [
    "print(\"Here's the first line \\n and here's the second\")"
   ]
  },
  {
   "cell_type": "code",
   "execution_count": 32,
   "metadata": {
    "collapsed": false
   },
   "outputs": [
    {
     "data": {
      "text/plain": [
       "'January\\n'"
      ]
     },
     "execution_count": 32,
     "metadata": {},
     "output_type": "execute_result"
    }
   ],
   "source": [
    "f.readline()"
   ]
  },
  {
   "cell_type": "markdown",
   "metadata": {},
   "source": [
    "## Stripping extra characters\n",
    "- readline returns the new line \n",
    "- print returns the new line\n",
    "- you can end up with a lot of extra lines"
   ]
  },
  {
   "cell_type": "code",
   "execution_count": 33,
   "metadata": {
    "collapsed": false
   },
   "outputs": [
    {
     "name": "stdout",
     "output_type": "stream",
     "text": [
      "January\n",
      "\n",
      "February\n",
      "\n",
      "March\n",
      "\n",
      "April\n",
      "\n",
      "May\n",
      "\n",
      "June\n",
      "\n",
      "July\n",
      "\n",
      "August\n",
      "\n",
      "September\n",
      "\n",
      "October\n",
      "\n",
      "November\n",
      "\n",
      "December\n",
      "\n"
     ]
    }
   ],
   "source": [
    "f = open(\"months.txt\")\n",
    "next = f.readline()\n",
    "while next != \"\":\n",
    "    print(next)\n",
    "    next = f.readline()"
   ]
  },
  {
   "cell_type": "code",
   "execution_count": 38,
   "metadata": {
    "collapsed": false
   },
   "outputs": [
    {
     "name": "stdout",
     "output_type": "stream",
     "text": [
      "January\n",
      "February\n",
      "March\n",
      "April\n",
      "May\n",
      "June\n",
      "July\n",
      "August\n",
      "September\n",
      "October\n",
      "November\n",
      "December\n"
     ]
    }
   ],
   "source": [
    "f = open(\"months.txt\")\n",
    "next = f.readline()\n",
    "while next != \"\":\n",
    "    print(next.strip())\n",
    "    next = f.readline()"
   ]
  },
  {
   "cell_type": "markdown",
   "metadata": {},
   "source": [
    "## Reading in Every Line\n",
    "- Read in all the lines and return them as a list"
   ]
  },
  {
   "cell_type": "code",
   "execution_count": 40,
   "metadata": {
    "collapsed": false
   },
   "outputs": [
    {
     "data": {
      "text/plain": [
       "['January\\n',\n",
       " 'February\\n',\n",
       " 'March\\n',\n",
       " 'April\\n',\n",
       " 'May\\n',\n",
       " 'June\\n',\n",
       " 'July\\n',\n",
       " 'August\\n',\n",
       " 'September\\n',\n",
       " 'October\\n',\n",
       " 'November\\n',\n",
       " 'December\\n']"
      ]
     },
     "execution_count": 40,
     "metadata": {},
     "output_type": "execute_result"
    }
   ],
   "source": [
    "f = open(\"months.txt\")\n",
    "f.readlines()"
   ]
  },
  {
   "cell_type": "code",
   "execution_count": 43,
   "metadata": {
    "collapsed": false
   },
   "outputs": [
    {
     "name": "stdout",
     "output_type": "stream",
     "text": [
      "Month = January\n",
      "Month = February\n",
      "Month = March\n",
      "Month = April\n",
      "Month = May\n",
      "Month = June\n",
      "Month = July\n",
      "Month = August\n",
      "Month = September\n",
      "Month = October\n",
      "Month = November\n",
      "Month = December\n"
     ]
    }
   ],
   "source": [
    "f = open(\"months.txt\")\n",
    "for month in f.readlines():\n",
    "   print(\"Month = \" + month.strip())"
   ]
  },
  {
   "cell_type": "markdown",
   "metadata": {
    "deletable": true,
    "editable": true
   },
   "source": [
    "## Writing to a file"
   ]
  },
  {
   "cell_type": "raw",
   "metadata": {},
   "source": [
    "open(\"file_path/file.txt\", file_mode)"
   ]
  },
  {
   "cell_type": "markdown",
   "metadata": {},
   "source": [
    "- r = read file\n",
    "- w = write to file, erasing any existing data\n",
    "- a = write new data to end of file\n",
    "- b = binary mode\n",
    "- r\\+ = read and write to file\n",
    "- w\\+ = write to file, create if it doesn't exist\n",
    "- a\\+ = read, append to file, create if it doesn't exist\n",
    "\n",
    "more file modes: https://docs.python.org/3/library/functions.html#open"
   ]
  },
  {
   "cell_type": "code",
   "execution_count": 48,
   "metadata": {
    "collapsed": false
   },
   "outputs": [],
   "source": [
    "f = open(\"months.txt\", \"a+\")"
   ]
  },
  {
   "cell_type": "code",
   "execution_count": 49,
   "metadata": {
    "collapsed": true
   },
   "outputs": [],
   "source": [
    "f = open(\"months.txt\", \"w\")\n",
    "f.write(\"Erasing all the things and adding this!\")\n",
    "f.close()"
   ]
  },
  {
   "cell_type": "markdown",
   "metadata": {},
   "source": [
    "### Closing the file\n",
    "- write does not close the file\n",
    "- changes will not show up until you clsoe the file\n",
    "- good practice, don't leave a process hanging"
   ]
  },
  {
   "cell_type": "markdown",
   "metadata": {
    "collapsed": true,
    "deletable": true,
    "editable": true
   },
   "source": [
    "## Opening a file with with()\n",
    "- more flexible\n",
    "- automatically closes the file handle when function is finished"
   ]
  },
  {
   "cell_type": "raw",
   "metadata": {
    "collapsed": true,
    "deletable": true,
    "editable": true
   },
   "source": [
    "with open(newfile, 'w') as f, open(oldfile, 'r', encoding='utf-8') as g:\n",
    "    for line in infile:\n",
    "        print(line)"
   ]
  }
 ],
 "metadata": {
  "kernelspec": {
   "display_name": "Python 3",
   "language": "python",
   "name": "python3"
  },
  "language_info": {
   "codemirror_mode": {
    "name": "ipython",
    "version": 3
   },
   "file_extension": ".py",
   "mimetype": "text/x-python",
   "name": "python",
   "nbconvert_exporter": "python",
   "pygments_lexer": "ipython3",
   "version": "3.5.2"
  }
 },
 "nbformat": 4,
 "nbformat_minor": 2
}
