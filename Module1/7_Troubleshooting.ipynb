{
 "cells": [
  {
   "cell_type": "markdown",
   "metadata": {},
   "source": [
    "# Troubleshooting: When Stuff Goes Wrong"
   ]
  },
  {
   "cell_type": "markdown",
   "metadata": {},
   "source": [
    "## Use Print Statements"
   ]
  },
  {
   "cell_type": "code",
   "execution_count": null,
   "metadata": {
    "collapsed": true
   },
   "outputs": [],
   "source": [
    "def long_function(var1, var2):\n",
    "    new_var = var1 + var2\n",
    "    return(new_var)"
   ]
  },
  {
   "cell_type": "code",
   "execution_count": null,
   "metadata": {
    "collapsed": true
   },
   "outputs": [],
   "source": [
    "def long_function(var1, var2):\n",
    "    new_var = var1 + var2\n",
    "    # return(new_var)\n",
    "    print(var1)\n",
    "    print(var2)\n",
    "    print(new_var)"
   ]
  },
  {
   "cell_type": "markdown",
   "metadata": {},
   "source": [
    "## Break things down"
   ]
  },
  {
   "cell_type": "code",
   "execution_count": null,
   "metadata": {
    "collapsed": true
   },
   "outputs": [],
   "source": [
    "def long_function(var1, var2):\n",
    "    new_var = var1 + var2\n",
    "    other_var = new_var * 10\n",
    "    yet_another = other_var + 3000\n",
    "    return(yet_another)"
   ]
  },
  {
   "cell_type": "code",
   "execution_count": null,
   "metadata": {
    "collapsed": true
   },
   "outputs": [],
   "source": [
    "def long_function(var1, var2):\n",
    "    new_var = var1 + var2\n",
    "    print(new_var)"
   ]
  },
  {
   "cell_type": "markdown",
   "metadata": {},
   "source": [
    "##  Google and StackExchange/StackOverflow"
   ]
  },
  {
   "cell_type": "markdown",
   "metadata": {},
   "source": [
    "### Google\n",
    "Improve your google search by adding \"python\" and the name of the operation you are trying to do to your search string: \n",
    "- python add two variables\n",
    "- python concatenate strings\n",
    "- python string formatting\n",
    "- etc\n",
    "\n",
    "### StackExchange/Overflow\n",
    "This is a great resource for all of your programming questions. Just make sure to search thoroughly first to see if the question has already been answered, or else you will be flamed!\n",
    "https://stackoverflow.com/\n",
    "\n",
    "- Give your post a precise title\n",
    "- Add relevent tags such as \"python\", \"multiplication\"\n",
    "- Give details about your input, desired output and the steps you've already tried"
   ]
  },
  {
   "cell_type": "code",
   "execution_count": null,
   "metadata": {
    "collapsed": true
   },
   "outputs": [],
   "source": []
  }
 ],
 "metadata": {
  "kernelspec": {
   "display_name": "Python 3",
   "language": "python",
   "name": "python3"
  },
  "language_info": {
   "codemirror_mode": {
    "name": "ipython",
    "version": 3
   },
   "file_extension": ".py",
   "mimetype": "text/x-python",
   "name": "python",
   "nbconvert_exporter": "python",
   "pygments_lexer": "ipython3",
   "version": "3.5.2"
  }
 },
 "nbformat": 4,
 "nbformat_minor": 2
}
