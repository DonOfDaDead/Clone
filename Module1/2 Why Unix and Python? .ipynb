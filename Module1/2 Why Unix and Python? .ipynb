{
 "cells": [
  {
   "cell_type": "markdown",
   "metadata": {},
   "source": [
    "# Why Learn Unix and Python? "
   ]
  },
  {
   "cell_type": "markdown",
   "metadata": {
    "collapsed": true
   },
   "source": [
    "## Unix\n",
    "\n",
    "![](./linux.jpg?raw=true)\n",
    "\n",
    "If you're serious about becoming a programmer, it's essential to at least learn the basics of a command line interface, and Unix is the top choice. \n",
    "\n",
    "- Run commands and navigate directly from the command line\n",
    "- Memory efficiency\n",
    "- Directly run scripts without the need for extra software/interface\n",
    "- Most common server OS\n",
    "- Steep learning curve, but worth it"
   ]
  },
  {
   "cell_type": "markdown",
   "metadata": {},
   "source": [
    "## Python"
   ]
  },
  {
   "cell_type": "markdown",
   "metadata": {
    "collapsed": true
   },
   "source": [
    "![](./monty_python.jpg?raw=true)"
   ]
  },
  {
   "cell_type": "markdown",
   "metadata": {},
   "source": [
    "- It's named after Monty Python... what more could you want? \n",
    "- Easy to read\n",
    "- Powerful\n",
    "- Frequently updated\n",
    "- Many powerful and useful modules\n",
    "- Easy, clear syntax\n",
    "- Platform agnostic"
   ]
  },
  {
   "cell_type": "code",
   "execution_count": null,
   "metadata": {
    "collapsed": true
   },
   "outputs": [],
   "source": []
  }
 ],
 "metadata": {
  "kernelspec": {
   "display_name": "Python 3",
   "language": "python",
   "name": "python3"
  },
  "language_info": {
   "codemirror_mode": {
    "name": "ipython",
    "version": 3
   },
   "file_extension": ".py",
   "mimetype": "text/x-python",
   "name": "python",
   "nbconvert_exporter": "python",
   "pygments_lexer": "ipython3",
   "version": "3.5.2"
  }
 },
 "nbformat": 4,
 "nbformat_minor": 2
}
