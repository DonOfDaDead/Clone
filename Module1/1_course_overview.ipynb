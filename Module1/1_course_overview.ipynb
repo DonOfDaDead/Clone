{
 "cells": [
  {
   "cell_type": "markdown",
   "metadata": {},
   "source": [
    "# Course Overview"
   ]
  },
  {
   "cell_type": "markdown",
   "metadata": {},
   "source": [
    "## Instructors \n",
    "\n",
    "Instructor: Summer Rae summe@uw.edu  \n",
    "Teaching Assistant: Greg Corradini ( Email via Canvas )"
   ]
  },
  {
   "cell_type": "markdown",
   "metadata": {},
   "source": [
    "## Office Hours\n",
    "- Sundays, 1pm\n",
    "- Starbucks across the street from campus"
   ]
  },
  {
   "cell_type": "markdown",
   "metadata": {},
   "source": [
    "## What is this class about\n",
    "- Beginning level intro to programming, with python\n",
    "- Good for: \n",
    "    - Beginners\n",
    "    - Coming from other languages\n",
    "    - Refesher course\n",
    "    - Preparation for certificate programs"
   ]
  },
  {
   "cell_type": "markdown",
   "metadata": {},
   "source": [
    "## What we'll be learning\n",
    "- Basics operations in a Unix environment\n",
    "- Fundamentals of programming using Python"
   ]
  },
  {
   "cell_type": "markdown",
   "metadata": {},
   "source": [
    "## Class Format\n",
    "\n",
    "- Meet weekly from: 1/12/17 to 3/16/17  \n",
    "- Online in Zoom https://uwtest.zoom.us/j/830963209 \n",
    "- 3 hour lectures, recorded\n",
    "- Intro to material\n",
    "- Hands on lab with time for questions\n",
    "- Repeat\n",
    "- Introduce homework\n",
    "- Time permitting, begin homework answer/questions"
   ]
  },
  {
   "cell_type": "markdown",
   "metadata": {},
   "source": [
    "## Expectations/Grading\n",
    "- Pass/Fail\n",
    "- 80% required to pass\n",
    "- 80% attendance either online or in class\n",
    "- Homework due before the following class"
   ]
  },
  {
   "cell_type": "markdown",
   "metadata": {},
   "source": [
    "## Canvas\n",
    "- Assignments and supplemental material in canvas\n",
    "    - Course videos and programming hints available from previous professor\n",
    "- Homwork turned into Canvas\n",
    "- Grading in Canvas\n",
    "- Discussion/help in Canvas\n",
    "- Get an easy 50 points by logging in and [completing an introduction in Canvas](https://canvas.uw.edu/courses/1105303/discussion_topics/3521544)\n",
    "\n",
    "https://canvas.uw.edu/courses/1105303"
   ]
  },
  {
   "cell_type": "markdown",
   "metadata": {},
   "source": [
    "## Github Repo\n",
    "Lecture notes will be posted on Github at the following URL: \n",
    "\n",
    "https://github.com/summerela/intro_programming_python"
   ]
  },
  {
   "cell_type": "markdown",
   "metadata": {},
   "source": [
    "## Textbook\n",
    "\n",
    "Required Textbook: Python Programming for the Absolute Beginner, Third Edition, By Michael Dawson ISBN-10: 1435455002 "
   ]
  },
  {
   "cell_type": "markdown",
   "metadata": {},
   "source": [
    "## Access and accomodations\n",
    "\n",
    "Disability Resources for Students (DRS) offers resources and coordinates reasonable accommodations for students with disabilities.\n",
    "\n",
    "Contact DRS at 206-543-8924 or uwdrs@uw.edu or disability.uw.edu"
   ]
  }
 ],
 "metadata": {
  "kernelspec": {
   "display_name": "Python 3",
   "language": "python",
   "name": "python3"
  },
  "language_info": {
   "codemirror_mode": {
    "name": "ipython",
    "version": 3
   },
   "file_extension": ".py",
   "mimetype": "text/x-python",
   "name": "python",
   "nbconvert_exporter": "python",
   "pygments_lexer": "ipython3",
   "version": "3.5.2"
  }
 },
 "nbformat": 4,
 "nbformat_minor": 2
}
