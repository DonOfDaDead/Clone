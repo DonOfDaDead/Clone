{
 "cells": [
  {
   "cell_type": "markdown",
   "metadata": {},
   "source": [
    "# Installing all the things!\n",
    "\n",
    "Try to follow along, but if you get stuck, don't worry, we'll have time during the lab to make sure you're setup and running. "
   ]
  },
  {
   "cell_type": "markdown",
   "metadata": {},
   "source": [
    "## Setting up a Unix Environment\n",
    "### Terminal in Mac\n",
    "Because OSx is based off of unix, accessing the command line from a mac is super easy; just hit command + spacebar and search for \"terminal\". \n",
    "\n",
    "### GitBash in Windows\n",
    "Since Windows is based off of DOS instead of UNIX, we'll use Git Bash to keep things from getting too complicated. "
   ]
  },
  {
   "cell_type": "markdown",
   "metadata": {},
   "source": [
    "## Install Git\n",
    "\n",
    "- Download the most recent windows or mac version from: \n",
    "https://git-scm.com/downloads"
   ]
  },
  {
   "cell_type": "markdown",
   "metadata": {},
   "source": [
    "## Install Python3\n",
    "- Download the most recent version of python3 for mac or windows from: https://www.python.org/downloads/"
   ]
  },
  {
   "cell_type": "markdown",
   "metadata": {},
   "source": [
    "## Installing Sublime Text\n",
    "- Download the most recent version of sublime text version 2 for mac or windows from:\n",
    "http://www.sublimetext.com/2"
   ]
  },
  {
   "cell_type": "code",
   "execution_count": null,
   "metadata": {
    "collapsed": true
   },
   "outputs": [],
   "source": []
  }
 ],
 "metadata": {
  "kernelspec": {
   "display_name": "Python 3",
   "language": "python",
   "name": "python3"
  },
  "language_info": {
   "codemirror_mode": {
    "name": "ipython",
    "version": 3
   },
   "file_extension": ".py",
   "mimetype": "text/x-python",
   "name": "python",
   "nbconvert_exporter": "python",
   "pygments_lexer": "ipython3",
   "version": "3.5.2"
  }
 },
 "nbformat": 4,
 "nbformat_minor": 2
}
