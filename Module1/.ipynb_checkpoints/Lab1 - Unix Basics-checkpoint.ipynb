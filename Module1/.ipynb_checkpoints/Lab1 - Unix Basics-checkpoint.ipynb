{
 "cells": [
  {
   "cell_type": "markdown",
   "metadata": {},
   "source": [
    "# Unix Basics\n",
    "\n",
    "The following exercise is designed to help you practice the unix commands that you'll need to work with python and many other programming languages. \n",
    "\n",
    "Try the following exercise on your own, or in a group; whatever way you work best. \n",
    "\n",
    "It's important that you get these basic operations down, so make sure to let us know if you have any questions. "
   ]
  },
  {
   "cell_type": "code",
   "execution_count": null,
   "metadata": {
    "collapsed": true
   },
   "outputs": [],
   "source": []
  }
 ],
 "metadata": {
  "kernelspec": {
   "display_name": "Python 3",
   "language": "python",
   "name": "python3"
  },
  "language_info": {
   "codemirror_mode": {
    "name": "ipython",
    "version": 3
   },
   "file_extension": ".py",
   "mimetype": "text/x-python",
   "name": "python",
   "nbconvert_exporter": "python",
   "pygments_lexer": "ipython3",
   "version": "3.5.2"
  }
 },
 "nbformat": 4,
 "nbformat_minor": 2
}
