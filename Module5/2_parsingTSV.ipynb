{
 "cells": [
  {
   "cell_type": "markdown",
   "metadata": {},
   "source": [
    "# Parsing a TSV file\n",
    "- tab separated values\n",
    "- second most common file format\n",
    "- spreadsheets such as excel"
   ]
  },
  {
   "cell_type": "markdown",
   "metadata": {},
   "source": [
    "## Reading in a TSV file with the CSV module"
   ]
  },
  {
   "cell_type": "code",
   "execution_count": 46,
   "metadata": {
    "collapsed": false
   },
   "outputs": [
    {
     "name": "stdout",
     "output_type": "stream",
     "text": [
      "['\\ufeffCustomer,State,Balance']\n",
      "['Jim Beam,WA,100']\n",
      "['Jack Daniels,OR,3000']\n",
      "['Don Julio,OR,50']\n",
      "['Dom Perignon,OR,2000']\n"
     ]
    }
   ],
   "source": [
    "with open('./acct_balance.tsv', ) as f:\n",
    "    in_file = csv.reader(f, delimiter='\\t', dialect=\"excel-tab\")\n",
    "\n",
    "    for row in in_file:\n",
    "        print(row)"
   ]
  },
  {
   "cell_type": "markdown",
   "metadata": {},
   "source": [
    "### What is that '\\u' or 'ufeff' ? \n",
    "- encoding (UTF8, UTF16, respectively.)\n",
    "- allows you to add accents etc to strings"
   ]
  },
  {
   "cell_type": "markdown",
   "metadata": {},
   "source": [
    "## Reading in a TSV file the hard way"
   ]
  },
  {
   "cell_type": "code",
   "execution_count": 90,
   "metadata": {
    "collapsed": false
   },
   "outputs": [
    {
     "name": "stdout",
     "output_type": "stream",
     "text": [
      "['\\ufeffCustomer', 'State', 'Balance\\n']\n",
      "['Jim Beam', 'WA', '100\\n']\n",
      "['Jack Daniels', 'OR', '3000\\n']\n",
      "['Don Julio', 'OR', '50\\n']\n",
      "['Dom Perignon', 'OR', '2000']\n"
     ]
    }
   ],
   "source": [
    "with open('./acct_balance.tsv') as f:\n",
    "    in_file = f.readlines()\n",
    "    \n",
    "    for line in in_file:\n",
    "        print(line.split(','))"
   ]
  },
  {
   "cell_type": "markdown",
   "metadata": {},
   "source": [
    "## Reading in an Excel File"
   ]
  },
  {
   "cell_type": "code",
   "execution_count": 91,
   "metadata": {
    "collapsed": false
   },
   "outputs": [
    {
     "name": "stdout",
     "output_type": "stream",
     "text": [
      "       Customer State  Balance\n",
      "0      Jim Beam    WA      100\n",
      "1  Jack Daniels    OR     3000\n",
      "2     Don Julio    OR       50\n",
      "3  Dom Perignon    OR     2000\n"
     ]
    }
   ],
   "source": [
    "import pandas as pd\n",
    "\n",
    "xl_file = pd.read_excel(\"./acct_balance.xlsx\")\n",
    "print(xl_file)"
   ]
  },
  {
   "cell_type": "markdown",
   "metadata": {},
   "source": [
    "## Manipulating TSV Data"
   ]
  },
  {
   "cell_type": "code",
   "execution_count": 57,
   "metadata": {
    "collapsed": false
   },
   "outputs": [
    {
     "name": "stdout",
     "output_type": "stream",
     "text": [
      "﻿Customer,State,Balance\n",
      "Jim Beam,WA,100\n",
      "Jack Daniels,OR,3000\n",
      "Don Julio,OR,50\n",
      "Dom Perignon,OR,2000\n"
     ]
    }
   ],
   "source": [
    "with open('./acct_balance.tsv') as f:\n",
    "    in_file = csv.reader(f, delimiter='\\t', dialect=\"excel-tab\")\n",
    "\n",
    "    for row in in_file:\n",
    "        line = ','.join(row)\n",
    "        print(line)"
   ]
  },
  {
   "cell_type": "code",
   "execution_count": 58,
   "metadata": {
    "collapsed": false
   },
   "outputs": [
    {
     "name": "stdout",
     "output_type": "stream",
     "text": [
      "﻿Customer\n",
      "Jim Beam\n",
      "Jack Daniels\n",
      "Don Julio\n",
      "Dom Perignon\n"
     ]
    }
   ],
   "source": [
    "with open('./acct_balance.tsv') as f:\n",
    "    in_file = csv.reader(f, delimiter='\\t', dialect=\"excel-tab\")\n",
    "\n",
    "    for row in in_file:\n",
    "        line = ','.join(row)\n",
    "        name = line.split(',')[0]\n",
    "        print(name)"
   ]
  },
  {
   "cell_type": "markdown",
   "metadata": {},
   "source": [
    "#### One-liner multiple assignment"
   ]
  },
  {
   "cell_type": "code",
   "execution_count": 60,
   "metadata": {
    "collapsed": false
   },
   "outputs": [
    {
     "name": "stdout",
     "output_type": "stream",
     "text": [
      "State\n",
      "WA\n",
      "OR\n",
      "OR\n",
      "OR\n"
     ]
    }
   ],
   "source": [
    "with open('./acct_balance.tsv') as f:\n",
    "    in_file = csv.reader(f, delimiter='\\t', dialect=\"excel-tab\")\n",
    "\n",
    "    for row in in_file:\n",
    "        customer, state, balance = ','.join(row).split(',')\n",
    "        print(state)"
   ]
  },
  {
   "cell_type": "markdown",
   "metadata": {},
   "source": [
    "## Calculations on the data"
   ]
  },
  {
   "cell_type": "markdown",
   "metadata": {},
   "source": [
    "#### How many different states do the customers live in? "
   ]
  },
  {
   "cell_type": "code",
   "execution_count": 71,
   "metadata": {
    "collapsed": false
   },
   "outputs": [
    {
     "name": "stdout",
     "output_type": "stream",
     "text": [
      "{'OR', 'State', 'WA'}\n",
      "3\n"
     ]
    }
   ],
   "source": [
    "state_list = []\n",
    "\n",
    "with open('./acct_balance.tsv') as f:\n",
    "    in_file = csv.reader(f, delimiter='\\t', dialect=\"excel-tab\")\n",
    "\n",
    "    for row in in_file:\n",
    "        customer, state, balance = ','.join(row).split(',')\n",
    "        state_list.append(state)\n",
    "        \n",
    "print(set(state_list))  \n",
    "print(len(set(state_list)))"
   ]
  },
  {
   "cell_type": "code",
   "execution_count": 70,
   "metadata": {
    "collapsed": false
   },
   "outputs": [
    {
     "name": "stdout",
     "output_type": "stream",
     "text": [
      "{'OR', 'WA'}\n",
      "2\n"
     ]
    }
   ],
   "source": [
    "state_list = []\n",
    "\n",
    "with open('./acct_balance.tsv') as f:\n",
    "    next(f, None)  \n",
    "    in_file = csv.reader(f, delimiter='\\t', dialect=\"excel-tab\")\n",
    "\n",
    "    for row in in_file:\n",
    "        customer, state, balance = ','.join(row).split(',')\n",
    "        state_list.append(state)\n",
    "        \n",
    "print(set(state_list))    \n",
    "print(len(set(state_list)))"
   ]
  },
  {
   "cell_type": "markdown",
   "metadata": {},
   "source": [
    "#### What's the average account balance? "
   ]
  },
  {
   "cell_type": "code",
   "execution_count": 80,
   "metadata": {
    "collapsed": false
   },
   "outputs": [
    {
     "name": "stdout",
     "output_type": "stream",
     "text": [
      "['100', '3000', '50', '2000']\n"
     ]
    },
    {
     "ename": "TypeError",
     "evalue": "unsupported operand type(s) for +: 'int' and 'str'",
     "output_type": "error",
     "traceback": [
      "\u001b[0;31m---------------------------------------------------------------------------\u001b[0m",
      "\u001b[0;31mTypeError\u001b[0m                                 Traceback (most recent call last)",
      "\u001b[0;32m<ipython-input-80-eb4a694fb50e>\u001b[0m in \u001b[0;36m<module>\u001b[0;34m()\u001b[0m\n\u001b[1;32m     10\u001b[0m \u001b[0;34m\u001b[0m\u001b[0m\n\u001b[1;32m     11\u001b[0m \u001b[0mprint\u001b[0m\u001b[0;34m(\u001b[0m\u001b[0mbalance_list\u001b[0m\u001b[0;34m)\u001b[0m\u001b[0;34m\u001b[0m\u001b[0m\n\u001b[0;32m---> 12\u001b[0;31m \u001b[0mprint\u001b[0m\u001b[0;34m(\u001b[0m\u001b[0msum\u001b[0m\u001b[0;34m(\u001b[0m\u001b[0mbalance_list\u001b[0m\u001b[0;34m)\u001b[0m\u001b[0;34m)\u001b[0m\u001b[0;34m\u001b[0m\u001b[0m\n\u001b[0m",
      "\u001b[0;31mTypeError\u001b[0m: unsupported operand type(s) for +: 'int' and 'str'"
     ]
    }
   ],
   "source": [
    "balance_list = []\n",
    "\n",
    "with open('./acct_balance.tsv') as f:\n",
    "    next(f, None)  \n",
    "    in_file = csv.reader(f, delimiter='\\t', dialect=\"excel-tab\")\n",
    "\n",
    "    for row in in_file:\n",
    "        customer, state, balance = ','.join(row).split(',')\n",
    "        balance_list.append(balance)\n",
    "        \n",
    "print(balance_list)\n",
    "print(sum(balance_list))"
   ]
  },
  {
   "cell_type": "code",
   "execution_count": 87,
   "metadata": {
    "collapsed": false
   },
   "outputs": [
    {
     "name": "stdout",
     "output_type": "stream",
     "text": [
      "[100, 3000, 50, 2000]\n",
      "5150\n",
      "4\n",
      "1287.5\n"
     ]
    }
   ],
   "source": [
    "balance_list = []\n",
    "\n",
    "with open('./acct_balance.tsv') as f:\n",
    "    next(f, None)  \n",
    "    in_file = csv.reader(f, delimiter='\\t', dialect=\"excel-tab\")\n",
    "\n",
    "    for row in in_file:\n",
    "        customer, state, balance = ','.join(row).split(',')\n",
    "        balance_list.append(int(balance))\n",
    "        \n",
    "print(balance_list)\n",
    "print(sum(balance_list))\n",
    "print(len(balance_list))\n",
    "avg = sum(balance_list)/len(balance_list)\n",
    "print(avg)"
   ]
  }
 ],
 "metadata": {
  "kernelspec": {
   "display_name": "Python 3",
   "language": "python",
   "name": "python3"
  },
  "language_info": {
   "codemirror_mode": {
    "name": "ipython",
    "version": 3
   },
   "file_extension": ".py",
   "mimetype": "text/x-python",
   "name": "python",
   "nbconvert_exporter": "python",
   "pygments_lexer": "ipython3",
   "version": "3.5.2"
  }
 },
 "nbformat": 4,
 "nbformat_minor": 2
}
