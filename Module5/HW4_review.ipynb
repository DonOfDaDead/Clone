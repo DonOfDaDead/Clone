{
 "cells": [
  {
   "cell_type": "markdown",
   "metadata": {
    "deletable": true,
    "editable": true
   },
   "source": [
    "# Homework 4 Review\n",
    "Write a function that only prints out information for airports in Russia or Australia"
   ]
  },
  {
   "cell_type": "markdown",
   "metadata": {
    "deletable": true,
    "editable": true
   },
   "source": [
    "## Quick Answer"
   ]
  },
  {
   "cell_type": "code",
   "execution_count": null,
   "metadata": {
    "collapsed": true,
    "deletable": true,
    "editable": true
   },
   "outputs": [],
   "source": [
    "import csv\n",
    "\n",
    "f = open('airports.dat', encoding='utf8') \n",
    "reader = csv.reader(f, delimiter=',') \n",
    "\n",
    "for row in reader:\n",
    "    airport = row[3]     \n",
    "    if airport == 'Russia' or airport == 'Australia':         \n",
    "        print('Row #' + str(reader.line_num) + ' ' + str(row))"
   ]
  },
  {
   "cell_type": "markdown",
   "metadata": {
    "deletable": true,
    "editable": true
   },
   "source": [
    "## Turn it into a function"
   ]
  },
  {
   "cell_type": "code",
   "execution_count": 27,
   "metadata": {
    "collapsed": true,
    "deletable": true,
    "editable": true
   },
   "outputs": [],
   "source": [
    "import csv\n",
    "\n",
    "def find_airports(airport1, airport2, in_file_path):\n",
    "    f = open(in_file_path)\n",
    "    reader = csv.reader(f, delimiter=',') \n",
    "    \n",
    "    for row in reader:\n",
    "        airport = row[3]     \n",
    "        if airport == airport1 or airport == airport2:         \n",
    "            print('Row #' + str(reader.line_num) + ' ' + str(row))\n",
    "    "
   ]
  },
  {
   "cell_type": "raw",
   "metadata": {
    "deletable": true,
    "editable": true
   },
   "source": [
    "find_airports(\"Russia\", \"Australia\", \"./airports.dat\")"
   ]
  },
  {
   "cell_type": "markdown",
   "metadata": {
    "deletable": true,
    "editable": true
   },
   "source": [
    "## Count How Many Airports are in the file"
   ]
  },
  {
   "cell_type": "code",
   "execution_count": 25,
   "metadata": {
    "collapsed": false,
    "deletable": true,
    "editable": true
   },
   "outputs": [
    {
     "name": "stdout",
     "output_type": "stream",
     "text": [
      "237\n"
     ]
    }
   ],
   "source": [
    "f = open('airports.dat', encoding='utf8') \n",
    "reader = csv.reader(f, delimiter=',') \n",
    "\n",
    "country_list = []\n",
    "for line in reader:\n",
    "    country_name = line[3]\n",
    "    if country_name not in country_list:\n",
    "        country_list.append(country_name)\n",
    "\n",
    "print(len(country_list))\n"
   ]
  }
 ],
 "metadata": {
  "kernelspec": {
   "display_name": "Python 3",
   "language": "python",
   "name": "python3"
  },
  "language_info": {
   "codemirror_mode": {
    "name": "ipython",
    "version": 3
   },
   "file_extension": ".py",
   "mimetype": "text/x-python",
   "name": "python",
   "nbconvert_exporter": "python",
   "pygments_lexer": "ipython3",
   "version": "3.5.2"
  }
 },
 "nbformat": 4,
 "nbformat_minor": 2
}
