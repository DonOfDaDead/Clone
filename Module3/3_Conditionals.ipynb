{
 "cells": [
  {
   "cell_type": "markdown",
   "metadata": {
    "collapsed": true
   },
   "source": [
    "## Conditional Statments: Flow Control"
   ]
  },
  {
   "cell_type": "markdown",
   "metadata": {},
   "source": [
    "### Booleans\n",
    "Boolean values are either true or false. "
   ]
  },
  {
   "cell_type": "code",
   "execution_count": 4,
   "metadata": {
    "collapsed": false
   },
   "outputs": [
    {
     "data": {
      "text/plain": [
       "True"
      ]
     },
     "execution_count": 4,
     "metadata": {},
     "output_type": "execute_result"
    }
   ],
   "source": [
    " 5 == (3 + 2)"
   ]
  },
  {
   "cell_type": "code",
   "execution_count": 5,
   "metadata": {
    "collapsed": false
   },
   "outputs": [
    {
     "data": {
      "text/plain": [
       "False"
      ]
     },
     "execution_count": 5,
     "metadata": {},
     "output_type": "execute_result"
    }
   ],
   "source": [
    "16 == 12"
   ]
  },
  {
   "cell_type": "code",
   "execution_count": 9,
   "metadata": {
    "collapsed": false
   },
   "outputs": [
    {
     "name": "stdout",
     "output_type": "stream",
     "text": [
      "┌──────────┬─────────────────────────────────┐\n",
      "│ Operator │ True if:                        │\n",
      "├──────────┼─────────────────────────────────┤\n",
      "│ x == y   │ X is equal to Y                 │\n",
      "├──────────┼─────────────────────────────────┤\n",
      "│ x != y   │ x is not equal to y             │\n",
      "├──────────┼─────────────────────────────────┤\n",
      "│ x > y    │ x is greater than y             │\n",
      "├──────────┼─────────────────────────────────┤\n",
      "│ x < y    │ x is less than y                │\n",
      "├──────────┼─────────────────────────────────┤\n",
      "│ x >= y   │ x is greater than or equal to y │\n",
      "├──────────┼─────────────────────────────────┤\n",
      "│ x <= y   │ x is less than or equal to y    │\n",
      "└──────────┴─────────────────────────────────┘\n"
     ]
    }
   ],
   "source": [
    "### Comparison Operators\n",
    "\n",
    "import tabletext\n",
    "\n",
    "data = [[\"Operator\", \"True if:\"],\n",
    "        [\"x == y\", \"X is equal to Y\"],\n",
    "        [\"x != y\", \"x is not equal to y\"],\n",
    "        [\"x > y\", \"x is greater than y\"],\n",
    "        [\"x < y\", \"x is less than y\"],\n",
    "        [\"x >= y\", \"x is greater than or equal to y\"],\n",
    "        [\"x <= y\", \"x is less than or equal to y\"]\n",
    "        ]\n",
    "\n",
    "print (tabletext.to_text(data))"
   ]
  },
  {
   "cell_type": "code",
   "execution_count": 10,
   "metadata": {
    "collapsed": false
   },
   "outputs": [
    {
     "data": {
      "text/plain": [
       "True"
      ]
     },
     "execution_count": 10,
     "metadata": {},
     "output_type": "execute_result"
    }
   ],
   "source": [
    "# x == y\n",
    "x = 10\n",
    "y = (5 * 2)\n",
    "\n",
    "x == y"
   ]
  },
  {
   "cell_type": "code",
   "execution_count": 11,
   "metadata": {
    "collapsed": false
   },
   "outputs": [
    {
     "data": {
      "text/plain": [
       "False"
      ]
     },
     "execution_count": 11,
     "metadata": {},
     "output_type": "execute_result"
    }
   ],
   "source": [
    "x != y"
   ]
  },
  {
   "cell_type": "markdown",
   "metadata": {},
   "source": [
    "### Logical Operators"
   ]
  },
  {
   "cell_type": "code",
   "execution_count": null,
   "metadata": {
    "collapsed": true
   },
   "outputs": [],
   "source": []
  },
  {
   "cell_type": "code",
   "execution_count": 12,
   "metadata": {
    "collapsed": false
   },
   "outputs": [
    {
     "name": "stdout",
     "output_type": "stream",
     "text": [
      "┌──────────┬─────────────────────────────┐\n",
      "│ Operator │ True if:                    │\n",
      "├──────────┼─────────────────────────────┤\n",
      "│ x and y  │ x and y are true            │\n",
      "├──────────┼─────────────────────────────┤\n",
      "│ x or y   │ x, y or both are true       │\n",
      "├──────────┼─────────────────────────────┤\n",
      "│ x not y  │ x is true and y is not true │\n",
      "└──────────┴─────────────────────────────┘\n"
     ]
    }
   ],
   "source": [
    "log_operators = [[\"Operator\", \"True if:\"],\n",
    "        [\"x and y\", \"x and y are true\"],\n",
    "        [\"x or y\", \"x, y or both are true\"],\n",
    "        [\"x not y\", \"x is true and y is not true\"]\n",
    "        ]\n",
    "\n",
    "print (tabletext.to_text(log_operators))"
   ]
  },
  {
   "cell_type": "code",
   "execution_count": 13,
   "metadata": {
    "collapsed": false
   },
   "outputs": [
    {
     "data": {
      "text/plain": [
       "False"
      ]
     },
     "execution_count": 13,
     "metadata": {},
     "output_type": "execute_result"
    }
   ],
   "source": [
    "x > 0 and x < 10"
   ]
  },
  {
   "cell_type": "code",
   "execution_count": 14,
   "metadata": {
    "collapsed": false
   },
   "outputs": [
    {
     "data": {
      "text/plain": [
       "True"
      ]
     },
     "execution_count": 14,
     "metadata": {},
     "output_type": "execute_result"
    }
   ],
   "source": [
    "x > 0 or x < 10"
   ]
  },
  {
   "cell_type": "code",
   "execution_count": 15,
   "metadata": {
    "collapsed": false
   },
   "outputs": [
    {
     "data": {
      "text/plain": [
       "True"
      ]
     },
     "execution_count": 15,
     "metadata": {},
     "output_type": "execute_result"
    }
   ],
   "source": [
    "not (x > y) "
   ]
  },
  {
   "cell_type": "markdown",
   "metadata": {},
   "source": [
    "## Conditionals \n",
    "If x is true, do something. If x is false do something else. "
   ]
  },
  {
   "cell_type": "code",
   "execution_count": 17,
   "metadata": {
    "collapsed": false
   },
   "outputs": [
    {
     "name": "stdout",
     "output_type": "stream",
     "text": [
      "Nope, x does not equal 5, it equals 10\n"
     ]
    }
   ],
   "source": [
    "if x == 5:\n",
    "    print (\"Yep, x equals 5\")\n",
    "else:\n",
    "    print(\"Nope, x does not equal 5, it equals {}\".format(x))"
   ]
  },
  {
   "cell_type": "markdown",
   "metadata": {},
   "source": [
    "#### Basic Syntax"
   ]
  },
  {
   "cell_type": "raw",
   "metadata": {},
   "source": [
    "if BOOLEAN EXPRESSION:\n",
    "    STATEMENTS_1        # Executed if condition evaluates to True\n",
    "else:\n",
    "    STATEMENTS_2        # Executed if condition evaluates to False"
   ]
  },
  {
   "cell_type": "code",
   "execution_count": 19,
   "metadata": {
    "collapsed": false
   },
   "outputs": [
    {
     "name": "stdout",
     "output_type": "stream",
     "text": [
      "Enter your favorite fruit: Mango\n"
     ]
    }
   ],
   "source": [
    "user_fruit = input(\"Enter your favorite fruit: \")"
   ]
  },
  {
   "cell_type": "code",
   "execution_count": 22,
   "metadata": {
    "collapsed": false
   },
   "outputs": [
    {
     "name": "stdout",
     "output_type": "stream",
     "text": [
      "My favorite fruit is mango, too!\n"
     ]
    }
   ],
   "source": [
    "if user_fruit.lower() == \"mango\":\n",
    "    print(\"My favorite fruit is mango, too!\")\n",
    "else:\n",
    "    print(\"Oh sad, mango is way better than {}\".format(user_fruit))"
   ]
  },
  {
   "cell_type": "markdown",
   "metadata": {},
   "source": [
    "### Chained Conditionals\n",
    "When there is more than one outcome. \n",
    "\n",
    "Each statement is evaluated in order: "
   ]
  },
  {
   "cell_type": "raw",
   "metadata": {},
   "source": [
    "if choice == 'a':\n",
    "    print(\"You chose 'a'.\")\n",
    "elif choice == 'b':\n",
    "    print(\"You chose 'b'.\")\n",
    "elif choice == 'c':\n",
    "    print(\"You chose 'c'.\")\n",
    "else:\n",
    "    print(\"Invalid choice.\")"
   ]
  },
  {
   "cell_type": "markdown",
   "metadata": {},
   "source": [
    "#### Multiple Ifs vs If/Elif/Else"
   ]
  },
  {
   "cell_type": "code",
   "execution_count": 26,
   "metadata": {
    "collapsed": false
   },
   "outputs": [
    {
     "name": "stdout",
     "output_type": "stream",
     "text": [
      "You are young!\n",
      "You are young!\n"
     ]
    }
   ],
   "source": [
    "def analyzeAge( age ):\n",
    "   if age < 21:\n",
    "       print(\"You are young!\") \n",
    "   if age > 21:\n",
    "       print(\"You are old!\")\n",
    "   else:    \n",
    "       print(\"You are young!\") \n",
    "\n",
    "analyzeAge( 18 )  "
   ]
  },
  {
   "cell_type": "code",
   "execution_count": 28,
   "metadata": {
    "collapsed": false
   },
   "outputs": [
    {
     "name": "stdout",
     "output_type": "stream",
     "text": [
      "You are young!\n"
     ]
    }
   ],
   "source": [
    "def analyzeAge( age ):\n",
    "   if age < 21:\n",
    "       print(\"You are young!\")\n",
    "   elif age > 21:\n",
    "       print(\"You are old!\")\n",
    "   else:   \n",
    "       print(\"Now you are just making things up!\") \n",
    "\n",
    "analyzeAge( 18 )  "
   ]
  },
  {
   "cell_type": "code",
   "execution_count": null,
   "metadata": {
    "collapsed": true
   },
   "outputs": [],
   "source": []
  }
 ],
 "metadata": {
  "kernelspec": {
   "display_name": "Python 3",
   "language": "python",
   "name": "python3"
  },
  "language_info": {
   "codemirror_mode": {
    "name": "ipython",
    "version": 3
   },
   "file_extension": ".py",
   "mimetype": "text/x-python",
   "name": "python",
   "nbconvert_exporter": "python",
   "pygments_lexer": "ipython3",
   "version": "3.5.2"
  }
 },
 "nbformat": 4,
 "nbformat_minor": 2
}
