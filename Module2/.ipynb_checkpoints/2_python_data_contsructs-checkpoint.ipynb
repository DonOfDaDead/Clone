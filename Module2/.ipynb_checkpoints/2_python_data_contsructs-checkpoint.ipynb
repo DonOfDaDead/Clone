{
 "cells": [
  {
   "cell_type": "markdown",
   "metadata": {},
   "source": [
    "## Python Data Contsructs"
   ]
  },
  {
   "cell_type": "markdown",
   "metadata": {},
   "source": [
    "### Variables\n",
    "Think of variables as containers. You create them, you name them, and you determine what value they will store. \n",
    "\n",
    "#### Naming variables\n",
    "my_var = 5\n",
    "\n",
    "my_var is a made up name for your variable. You can call it whatever you want. "
   ]
  },
  {
   "cell_type": "code",
   "execution_count": 1,
   "metadata": {
    "collapsed": false
   },
   "outputs": [
    {
     "name": "stdout",
     "output_type": "stream",
     "text": [
      "5\n",
      "5\n"
     ]
    }
   ],
   "source": [
    "rando_var = 5  \n",
    "steve = 5 \n",
    "\n",
    "print(rando_var)\n",
    "print(steve)"
   ]
  },
  {
   "cell_type": "markdown",
   "metadata": {},
   "source": [
    "#### Reserved Words\n",
    "Words used to trigger an action cannot be used as variable names: \n",
    "    \n",
    "- and\n",
    "- as\n",
    "- break\n",
    "- del\n",
    "- true\n",
    "- false\n",
    "- int\n",
    "- str"
   ]
  },
  {
   "cell_type": "code",
   "execution_count": 3,
   "metadata": {
    "collapsed": false
   },
   "outputs": [
    {
     "ename": "SyntaxError",
     "evalue": "invalid syntax (<ipython-input-3-31611c88557d>, line 1)",
     "output_type": "error",
     "traceback": [
      "\u001b[0;36m  File \u001b[0;32m\"<ipython-input-3-31611c88557d>\"\u001b[0;36m, line \u001b[0;32m1\u001b[0m\n\u001b[0;31m    break = 'test'\u001b[0m\n\u001b[0m          ^\u001b[0m\n\u001b[0;31mSyntaxError\u001b[0m\u001b[0;31m:\u001b[0m invalid syntax\n"
     ]
    }
   ],
   "source": [
    "break = 'test'"
   ]
  },
  {
   "cell_type": "markdown",
   "metadata": {},
   "source": [
    "### Statements and Commands"
   ]
  },
  {
   "cell_type": "markdown",
   "metadata": {},
   "source": [
    "#### Statement\n",
    "A complete instruction, like a sentence in English: \n",
    "- ex: print(\"Go fish!\")\n",
    "\n",
    "#### Command\n",
    "Think of a command as a verb; you are telling python to do something. \n",
    "\n",
    "print()  \n",
    "round()  \n",
    "sum()\n",
    "\n",
    "- Always lowercase!\n",
    "\n",
    "#### Expressions\n",
    "Expressions don't have any action to them, but they contain values. \n",
    "\n",
    "- \"Go fish!\"\n",
    "- 27 + 12\n"
   ]
  },
  {
   "cell_type": "markdown",
   "metadata": {},
   "source": [
    "## Formatting"
   ]
  },
  {
   "cell_type": "markdown",
   "metadata": {},
   "source": [
    "### Line Continuation Characters\n",
    "To make things pretty, or to continue a long function on the next line, use \"\\\": "
   ]
  },
  {
   "cell_type": "code",
   "execution_count": 8,
   "metadata": {
    "collapsed": false
   },
   "outputs": [],
   "source": [
    "def my_long_function():\n",
    "    print(\"My string \\\n",
    "    is really long \\\n",
    "    and has to be continued \\\n",
    "    on another line\")"
   ]
  },
  {
   "cell_type": "markdown",
   "metadata": {},
   "source": [
    "### Escape Sequences\n",
    "Using escape sequences allows you to put special characters in your strings. \n",
    "\n",
    "Two parts: \n",
    "- backslash tells the computer that what follows is not a regular string\n",
    "- followed by a special reserved character\n",
    "\n",
    "Examples: \n",
    "\\a = make a system sound\n",
    "\\t = tabs\n",
    "\\n = new line\n",
    "\n",
    "Real life use: \n",
    "\\\\ = insert a backslash into a string\n",
    "\\' = single quote"
   ]
  },
  {
   "cell_type": "code",
   "execution_count": 3,
   "metadata": {
    "collapsed": false
   },
   "outputs": [
    {
     "name": "stdout",
     "output_type": "stream",
     "text": [
      "'Goonies never say die,' she screamed!\n"
     ]
    }
   ],
   "source": [
    "print(\"'Goonies never say die,' she screamed!\")"
   ]
  },
  {
   "cell_type": "markdown",
   "metadata": {},
   "source": [
    "### Quotes\n",
    "How do we put quotes in a string? "
   ]
  },
  {
   "cell_type": "code",
   "execution_count": 5,
   "metadata": {
    "collapsed": false
   },
   "outputs": [
    {
     "name": "stdout",
     "output_type": "stream",
     "text": [
      "'What did she say?' he said\n"
     ]
    }
   ],
   "source": [
    "my_string = \"'What did she say?' he said\"\n",
    "print(my_string)"
   ]
  }
 ],
 "metadata": {
  "kernelspec": {
   "display_name": "Python 3",
   "language": "python",
   "name": "python3"
  },
  "language_info": {
   "codemirror_mode": {
    "name": "ipython",
    "version": 3
   },
   "file_extension": ".py",
   "mimetype": "text/x-python",
   "name": "python",
   "nbconvert_exporter": "python",
   "pygments_lexer": "ipython3",
   "version": "3.5.2"
  }
 },
 "nbformat": 4,
 "nbformat_minor": 2
}
