{
 "cells": [
  {
   "cell_type": "markdown",
   "metadata": {
    "deletable": true,
    "editable": true
   },
   "source": [
    "# Working with Version Control"
   ]
  },
  {
   "cell_type": "markdown",
   "metadata": {},
   "source": [
    "## Create a Github Repo"
   ]
  },
  {
   "cell_type": "markdown",
   "metadata": {
    "collapsed": true,
    "deletable": true,
    "editable": true
   },
   "source": [
    "- On the github website, create a new repository called Module7\n",
    "- Clone that directory onto your local computer"
   ]
  },
  {
   "cell_type": "code",
   "execution_count": 2,
   "metadata": {
    "collapsed": true
   },
   "outputs": [],
   "source": [
    "git clone path/to/your/repo/Module7"
   ]
  },
  {
   "cell_type": "markdown",
   "metadata": {},
   "source": [
    "- Change into your new repo directory"
   ]
  },
  {
   "cell_type": "code",
   "execution_count": null,
   "metadata": {
    "collapsed": true
   },
   "outputs": [],
   "source": [
    "cd Module7"
   ]
  },
  {
   "cell_type": "markdown",
   "metadata": {},
   "source": [
    "- Make a new file called hw7.py\n",
    "- You can use touch to create the empty file\n",
    "- Or create a new file however you usually do"
   ]
  },
  {
   "cell_type": "code",
   "execution_count": null,
   "metadata": {
    "collapsed": true
   },
   "outputs": [],
   "source": [
    "touch hw7.py"
   ]
  },
  {
   "cell_type": "markdown",
   "metadata": {},
   "source": [
    "## Let's Take Another Look at Dictionaries "
   ]
  },
  {
   "cell_type": "code",
   "execution_count": 11,
   "metadata": {
    "collapsed": true
   },
   "outputs": [],
   "source": [
    "# import a module to work with dictionaries\n",
    "from collections import OrderedDict"
   ]
  },
  {
   "cell_type": "markdown",
   "metadata": {},
   "source": [
    "### Dictionary the keeps the order items were entered in"
   ]
  },
  {
   "cell_type": "code",
   "execution_count": 7,
   "metadata": {
    "collapsed": false
   },
   "outputs": [
    {
     "name": "stdout",
     "output_type": "stream",
     "text": [
      "Regular dictionary\n",
      "d D\n",
      "c C\n",
      "a A\n",
      "b B\n",
      "e E\n"
     ]
    }
   ],
   "source": [
    "print( 'Regular dictionary')\n",
    "d = {}\n",
    "d['a'] = 'A'\n",
    "d['b'] = 'B'\n",
    "d['c'] = 'C'\n",
    "d['d'] = 'D'\n",
    "d['e'] = 'E'\n",
    "\n",
    "for k, v in d.items():\n",
    "    print (k, v)"
   ]
  },
  {
   "cell_type": "code",
   "execution_count": 12,
   "metadata": {
    "collapsed": false
   },
   "outputs": [
    {
     "name": "stdout",
     "output_type": "stream",
     "text": [
      "\n",
      "OrderedDict:\n",
      "a A\n",
      "b B\n",
      "c C\n",
      "d D\n",
      "e E\n"
     ]
    }
   ],
   "source": [
    "print ('\\nOrderedDict:')\n",
    "d = OrderedDict()\n",
    "d['a'] = 'A'\n",
    "d['b'] = 'B'\n",
    "d['c'] = 'C'\n",
    "d['d'] = 'D'\n",
    "d['e'] = 'E'\n",
    "\n",
    "for k, v in d.items():\n",
    "    print (k, v)"
   ]
  },
  {
   "cell_type": "markdown",
   "metadata": {},
   "source": [
    "### Dictionary that maintains keys in sorted order"
   ]
  },
  {
   "cell_type": "code",
   "execution_count": null,
   "metadata": {
    "collapsed": false
   },
   "outputs": [],
   "source": [
    "pip3 install sortedcontainers"
   ]
  },
  {
   "cell_type": "code",
   "execution_count": 14,
   "metadata": {
    "collapsed": true
   },
   "outputs": [],
   "source": [
    "from sortedcontainers import SortedDict"
   ]
  },
  {
   "cell_type": "code",
   "execution_count": 15,
   "metadata": {
    "collapsed": false
   },
   "outputs": [
    {
     "name": "stdout",
     "output_type": "stream",
     "text": [
      "\n",
      "SortedDict:\n",
      "a A\n",
      "b B\n",
      "c C\n",
      "d D\n",
      "e E\n"
     ]
    }
   ],
   "source": [
    "print ('\\nSortedDict:')\n",
    "d = SortedDict()\n",
    "d['a'] = 'A'\n",
    "d['e'] = 'E'\n",
    "d['c'] = 'C'\n",
    "d['d'] = 'D'\n",
    "d['b'] = 'B'\n",
    "\n",
    "\n",
    "for k, v in d.items():\n",
    "    print (k, v)"
   ]
  },
  {
   "cell_type": "markdown",
   "metadata": {},
   "source": [
    "## Let's Write a Script\n",
    "Together we're going to build the script that you're going to use for your homework, so follow along on your laptop.\n",
    "\n",
    "- add the following code to hw7.py (copy and paste)"
   ]
  },
  {
   "cell_type": "code",
   "execution_count": null,
   "metadata": {
    "collapsed": true
   },
   "outputs": [],
   "source": [
    "from sortedcontainers import SortedDict\n",
    "\n",
    "# Create dictionary with key = Names, value = user_name\n",
    "usernames = SortedDict()\n",
    "usernames['Summer'] = 'summerela'\n",
    "usernames['William'] = 'GoofyFish'\n",
    "usernames['Steven'] = 'LoLCat'\n",
    "usernames['Zara'] = 'zanyZara'\n",
    "usernames['Renato'] = 'songDude'\n",
    "\n",
    "# Set up while loop to iterate\n",
    "while True:\n",
    "\n",
    "    # Request user to enter a name\n",
    "    name = input('Enter a name:')\n",
    "\n",
    "    # Check whether name is in the dictionary and print feedback\n",
    "    if name in usernames:\n",
    "        print(usernames[name] + ' is the username of ' + name)\n",
    "\n",
    "    # If the name is not in the dictionary...\n",
    "    else:\n",
    "\n",
    "        # Provide feedback        \n",
    "        print('I don\\'t have ' + name + '\\'s username, what is it?')\n",
    "\n",
    "        # Take in a new username for the associated name\n",
    "        username = input()\n",
    "\n",
    "        # Assign username value to name key\n",
    "        usernames[name] = username\n",
    "\n",
    "        # Print feedback that the data was updated\n",
    "        print('Data updated.')"
   ]
  },
  {
   "cell_type": "markdown",
   "metadata": {},
   "source": [
    "## Now for Lab2: Pushing this script to GitHub"
   ]
  }
 ],
 "metadata": {
  "kernelspec": {
   "display_name": "Python 3",
   "language": "python",
   "name": "python3"
  },
  "language_info": {
   "codemirror_mode": {
    "name": "ipython",
    "version": 3
   },
   "file_extension": ".py",
   "mimetype": "text/x-python",
   "name": "python",
   "nbconvert_exporter": "python",
   "pygments_lexer": "ipython3",
   "version": "3.5.2"
  }
 },
 "nbformat": 4,
 "nbformat_minor": 2
}
