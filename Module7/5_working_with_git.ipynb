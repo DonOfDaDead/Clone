{
 "cells": [
  {
   "cell_type": "markdown",
   "metadata": {
    "deletable": true,
    "editable": true
   },
   "source": [
    "# Working with Version Control"
   ]
  },
  {
   "cell_type": "markdown",
   "metadata": {
    "deletable": true,
    "editable": true
   },
   "source": [
    "## Create a Github Repo"
   ]
  },
  {
   "cell_type": "markdown",
   "metadata": {
    "collapsed": true,
    "deletable": true,
    "editable": true
   },
   "source": [
    "- On the github website, create a new repository called Module7\n",
    "- Clone that directory onto your local computer"
   ]
  },
  {
   "cell_type": "code",
   "execution_count": 2,
   "metadata": {
    "collapsed": true,
    "deletable": true,
    "editable": true
   },
   "outputs": [],
   "source": [
    "git clone path/to/your/repo/Module7"
   ]
  },
  {
   "cell_type": "markdown",
   "metadata": {
    "deletable": true,
    "editable": true
   },
   "source": [
    "- Change into your new repo directory"
   ]
  },
  {
   "cell_type": "code",
   "execution_count": null,
   "metadata": {
    "collapsed": true,
    "deletable": true,
    "editable": true
   },
   "outputs": [],
   "source": [
    "cd Module7"
   ]
  },
  {
   "cell_type": "markdown",
   "metadata": {
    "deletable": true,
    "editable": true
   },
   "source": [
    "- Make a new file called hw7.py\n",
    "- You can use touch to create the empty file\n",
    "- Or create a new file however you usually do"
   ]
  },
  {
   "cell_type": "code",
   "execution_count": null,
   "metadata": {
    "collapsed": true,
    "deletable": true,
    "editable": true
   },
   "outputs": [],
   "source": [
    "touch hw7.py"
   ]
  },
  {
   "cell_type": "markdown",
   "metadata": {
    "deletable": true,
    "editable": true
   },
   "source": [
    "## Let's Take Another Look at Dictionaries "
   ]
  },
  {
   "cell_type": "code",
   "execution_count": 11,
   "metadata": {
    "collapsed": true,
    "deletable": true,
    "editable": true
   },
   "outputs": [],
   "source": [
    "# import a module to work with dictionaries\n",
    "from collections import OrderedDict"
   ]
  },
  {
   "cell_type": "markdown",
   "metadata": {
    "deletable": true,
    "editable": true
   },
   "source": [
    "### Dictionary the keeps the order items were entered in"
   ]
  },
  {
   "cell_type": "code",
   "execution_count": 7,
   "metadata": {
    "collapsed": false,
    "deletable": true,
    "editable": true
   },
   "outputs": [
    {
     "name": "stdout",
     "output_type": "stream",
     "text": [
      "Regular dictionary\n",
      "d D\n",
      "c C\n",
      "a A\n",
      "b B\n",
      "e E\n"
     ]
    }
   ],
   "source": [
    "print( 'Regular dictionary')\n",
    "d = {}\n",
    "d['a'] = 'A'\n",
    "d['b'] = 'B'\n",
    "d['c'] = 'C'\n",
    "d['d'] = 'D'\n",
    "d['e'] = 'E'\n",
    "\n",
    "for k, v in d.items():\n",
    "    print (k, v)"
   ]
  },
  {
   "cell_type": "code",
   "execution_count": 12,
   "metadata": {
    "collapsed": false,
    "deletable": true,
    "editable": true
   },
   "outputs": [
    {
     "name": "stdout",
     "output_type": "stream",
     "text": [
      "\n",
      "OrderedDict:\n",
      "a A\n",
      "b B\n",
      "c C\n",
      "d D\n",
      "e E\n"
     ]
    }
   ],
   "source": [
    "print ('\\nOrderedDict:')\n",
    "d = OrderedDict()\n",
    "d['a'] = 'A'\n",
    "d['b'] = 'B'\n",
    "d['c'] = 'C'\n",
    "d['d'] = 'D'\n",
    "d['e'] = 'E'\n",
    "\n",
    "for k, v in d.items():\n",
    "    print (k, v)"
   ]
  },
  {
   "cell_type": "markdown",
   "metadata": {
    "deletable": true,
    "editable": true
   },
   "source": [
    "### Dictionary that maintains keys in sorted order"
   ]
  },
  {
   "cell_type": "code",
   "execution_count": null,
   "metadata": {
    "collapsed": false,
    "deletable": true,
    "editable": true
   },
   "outputs": [],
   "source": [
    "pip3 install sortedcontainers"
   ]
  },
  {
   "cell_type": "code",
   "execution_count": 14,
   "metadata": {
    "collapsed": true,
    "deletable": true,
    "editable": true
   },
   "outputs": [],
   "source": [
    "from sortedcontainers import SortedDict"
   ]
  },
  {
   "cell_type": "code",
   "execution_count": 15,
   "metadata": {
    "collapsed": false,
    "deletable": true,
    "editable": true
   },
   "outputs": [
    {
     "name": "stdout",
     "output_type": "stream",
     "text": [
      "\n",
      "SortedDict:\n",
      "a A\n",
      "b B\n",
      "c C\n",
      "d D\n",
      "e E\n"
     ]
    }
   ],
   "source": [
    "print ('\\nSortedDict:')\n",
    "d = SortedDict()\n",
    "d['a'] = 'A'\n",
    "d['e'] = 'E'\n",
    "d['c'] = 'C'\n",
    "d['d'] = 'D'\n",
    "d['b'] = 'B'\n",
    "\n",
    "\n",
    "for k, v in d.items():\n",
    "    print (k, v)"
   ]
  },
  {
   "cell_type": "markdown",
   "metadata": {
    "deletable": true,
    "editable": true
   },
   "source": [
    "## Let's Write a Script\n",
    "Together we're going to build the script that you're going to use for your homework, so follow along on your laptop.\n",
    "\n",
    "- add the following code to hw7.py (copy and paste)"
   ]
  },
  {
   "cell_type": "code",
   "execution_count": null,
   "metadata": {
    "collapsed": true,
    "deletable": true,
    "editable": true
   },
   "outputs": [],
   "source": [
    "from sortedcontainers import SortedDict\n",
    "\n",
    "def print_menu():\n",
    "    print('1. Print Users')\n",
    "    print('2. Add a User')\n",
    "    print('3. Remove a User')\n",
    "    print('4. Lookup a Phone Number')\n",
    "    print('5. Quit')\n",
    "    print()\n",
    "\n",
    "# Create dictionary with key = Names, value = user_name\n",
    "usernames = SortedDict()\n",
    "usernames['Summer'] = 'summerela'\n",
    "usernames['William'] = 'GoofyFish'\n",
    "usernames['Steven'] = 'LoLCat'\n",
    "usernames['Zara'] = 'zanyZara'\n",
    "usernames['Renato'] = 'songDude'\n",
    "\n",
    "# setup counter to store menu choice\n",
    "menu_choice = 0\n",
    "\n",
    "#display your menu\n",
    "print_menu()\n",
    "\n",
    "# as long as the menu choice isn't \"quit\" get user options\n",
    "while menu_choice != 5:\n",
    "    # get menu choice from user\n",
    "    menu_choice = int(input(\"Type in a number (1-5): \"))\n",
    "    \n",
    "    # view current entries\n",
    "    if menu_choice == 1:\n",
    "        print(\"Current Users:\")\n",
    "        for x,y in usernames.items():\n",
    "            print(\"Name: {} \\tUser Name: {} \\n\".format(x,y))\n",
    "            \n",
    "    # add an entry\n",
    "    elif menu_choice == 2:\n",
    "        print(\"Add User\")\n",
    "        name = input(\"Name: \")\n",
    "        username = input(\"User Name: \")\n",
    "        usernames[name] = username\n",
    "        \n",
    "    # remove an entry\n",
    "    elif menu_choice == 3:\n",
    "        print(\"Remove User\")\n",
    "        name = input(\"Name: \")\n",
    "        if name in usernames:\n",
    "            pass # delete that entry\n",
    "\n",
    "    # view user name      \n",
    "    elif menu_choice == 4:\n",
    "        print(\"Lookup User\")\n",
    "        name = input(\"Name: \")\n",
    "        if name in usernames:\n",
    "            pass # print the username\n",
    "        else:\n",
    "            pass # print username not found\n",
    "    \n",
    "    # is user enters something strange, show them the menu\n",
    "    elif menu_choice != 5:\n",
    "        print_menu()"
   ]
  },
  {
   "cell_type": "markdown",
   "metadata": {
    "deletable": true,
    "editable": true
   },
   "source": [
    "## Now for Lab2: Pushing this script to GitHub"
   ]
  }
 ],
 "metadata": {
  "kernelspec": {
   "display_name": "Python 3",
   "language": "python",
   "name": "python3"
  },
  "language_info": {
   "codemirror_mode": {
    "name": "ipython",
    "version": 3
   },
   "file_extension": ".py",
   "mimetype": "text/x-python",
   "name": "python",
   "nbconvert_exporter": "python",
   "pygments_lexer": "ipython3",
   "version": "3.5.2"
  }
 },
 "nbformat": 4,
 "nbformat_minor": 2
}
